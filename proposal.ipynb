{
 "cells": [
  {
   "cell_type": "markdown",
   "metadata": {},
   "source": [
    "<h1> Predicting User Knowledge Level Using KNN Classification</h1>\n",
    "<h2> DSCI 100: Group 38 Final Project </h2>"
   ]
  },
  {
   "cell_type": "markdown",
   "metadata": {},
   "source": [
    "<b>Introduction: </b>\n",
    "\n",
    "- <u>Background: </u>\n",
    "- <u>Dataset description: </u>\n",
    "    - Dataset title:  <b> <a href=\"https://archive.ics.uci.edu/ml/datasets/User+Knowledge+Modeling\"> User Knowledge Modeling Data Set </a> </b>\n",
    "    - The dataset we are using is the “User Knowledge Modelling Dataset” from the UCI Machine Learning Repository in which the population consists of 403 undergraduate students in the Department of Electrical Education of Gazi University in the 2009 semester. \n",
    "    - Dataset terminology:\n",
    "    \n",
    "        <b>STG</b> - The degree of study time for goal object materials\n",
    "\n",
    "        <b>SCG</b> - The degree of repetition number of user for goal object materials\n",
    "\n",
    "        <b>STR</b> - The degree of study time of user for related objects with goal object\n",
    "\n",
    "        <b>LPR</b> - The exam performance of user for related objects with goal object\n",
    "\n",
    "        <b>PEG</b> - The exam performance of user for goal objects\n",
    "\n",
    "        <b>UNS</b> - The knowledge level of user\n",
    "    \n",
    "- <u>Objectives</u>: From the raw dataset, the target value is UNS and is classified through input values: STG, SCG, STR, LPR, and PEG. Our objective is to determine the category of UNS assigned to the user based on PEG (we will discuss later why we only choose this variable as the predictor) with k-NN classification. The target value is the knowledge level of students/ ‘users’ about the subject of Electrical DC Machines in which its features is PEG and its categories are:\n",
    "    - Very low\n",
    "    - Low\n",
    "    - Middle\n",
    "    - High\n",
    "    \n",
    "    <br>"
   ]
  },
  {
   "cell_type": "markdown",
   "metadata": {},
   "source": [
    "<b> Methods & Results: "
   ]
  },
  {
   "cell_type": "markdown",
   "metadata": {},
   "source": [
    "- <u>Preliminary exploratory data analysis: </u>"
   ]
  },
  {
   "cell_type": "markdown",
   "metadata": {},
   "source": [
    "Firstly, we loaded in the packages that were needed, and set the seed so that everything is reproducible for the data analysis. </i>"
   ]
  },
  {
   "cell_type": "code",
   "execution_count": 13,
   "metadata": {},
   "outputs": [],
   "source": [
    "library(tidyverse)\n",
    "library(readxl)\n",
    "library(digest)\n",
    "library(dplyr)\n",
    "library(repr)\n",
    "library(tidymodels)\n",
    "library(GGally)\n",
    "options(repr.matrix.max.rows = 6)\n",
    "\n",
    "set.seed(9999)"
   ]
  },
  {
   "cell_type": "markdown",
   "metadata": {},
   "source": [
    "<br>"
   ]
  },
  {
   "cell_type": "markdown",
   "metadata": {},
   "source": [
    "We loaded the data into R by downloading the file, where we then read the training dataset. Then we selected all the variable columns from the data and mutated UNS as a factor. <b>There was no need to wrangle the data into tidy format since it was already provided as such. </b> Each row is a single observation, each column is a single variable and each value is a single cell.\n",
    "    \n",
    "Now we need to choose the suitable predictor(s) for our prediction. We wanted to use the ggpairs function to find the correlations between all the variables and UNS, so that we can choose the ones with relatively strong correlations with UNS as predictor(s). But we noticed that UNS was not in the numeric form, so we assigned each UNS category a numeric value, from 1 to 4, representing the lowest level to the highest level. Notice below we used c(1,4,2,3) instead of normal ordering because the first four rows of the UNS column in the training dataset are \"very_low, high, low, middle\". They are not from the lowest level to the highest level as we wanted. That is why we needed to assign the categories as 1, 4, 2, and 3."
   ]
  },
  {
   "cell_type": "code",
   "execution_count": 14,
   "metadata": {},
   "outputs": [
    {
     "name": "stderr",
     "output_type": "stream",
     "text": [
      "New names:\n",
      "* `` -> ...7\n",
      "* `` -> ...8\n",
      "\n"
     ]
    },
    {
     "data": {
      "text/html": [
       "<table class=\"dataframe\">\n",
       "<caption>A tibble: 10 × 6</caption>\n",
       "<thead>\n",
       "\t<tr><th scope=col>STG</th><th scope=col>SCG</th><th scope=col>STR</th><th scope=col>LPR</th><th scope=col>PEG</th><th scope=col>UNS</th></tr>\n",
       "\t<tr><th scope=col>&lt;dbl&gt;</th><th scope=col>&lt;dbl&gt;</th><th scope=col>&lt;dbl&gt;</th><th scope=col>&lt;dbl&gt;</th><th scope=col>&lt;dbl&gt;</th><th scope=col>&lt;chr&gt;</th></tr>\n",
       "</thead>\n",
       "<tbody>\n",
       "\t<tr><td>0.00</td><td>0.00</td><td>0.00</td><td>0.00</td><td>0.00</td><td>very_low</td></tr>\n",
       "\t<tr><td>0.08</td><td>0.08</td><td>0.10</td><td>0.24</td><td>0.90</td><td>High    </td></tr>\n",
       "\t<tr><td>0.06</td><td>0.06</td><td>0.05</td><td>0.25</td><td>0.33</td><td>Low     </td></tr>\n",
       "\t<tr><td>⋮</td><td>⋮</td><td>⋮</td><td>⋮</td><td>⋮</td><td>⋮</td></tr>\n",
       "\t<tr><td>0.15</td><td>0.02</td><td>0.34</td><td>0.40</td><td>0.01</td><td>very_low</td></tr>\n",
       "\t<tr><td>0.20</td><td>0.14</td><td>0.35</td><td>0.72</td><td>0.25</td><td>Low     </td></tr>\n",
       "\t<tr><td>0.00</td><td>0.00</td><td>0.50</td><td>0.20</td><td>0.85</td><td>High    </td></tr>\n",
       "</tbody>\n",
       "</table>\n"
      ],
      "text/latex": [
       "A tibble: 10 × 6\n",
       "\\begin{tabular}{llllll}\n",
       " STG & SCG & STR & LPR & PEG & UNS\\\\\n",
       " <dbl> & <dbl> & <dbl> & <dbl> & <dbl> & <chr>\\\\\n",
       "\\hline\n",
       "\t 0.00 & 0.00 & 0.00 & 0.00 & 0.00 & very\\_low\\\\\n",
       "\t 0.08 & 0.08 & 0.10 & 0.24 & 0.90 & High    \\\\\n",
       "\t 0.06 & 0.06 & 0.05 & 0.25 & 0.33 & Low     \\\\\n",
       "\t ⋮ & ⋮ & ⋮ & ⋮ & ⋮ & ⋮\\\\\n",
       "\t 0.15 & 0.02 & 0.34 & 0.40 & 0.01 & very\\_low\\\\\n",
       "\t 0.20 & 0.14 & 0.35 & 0.72 & 0.25 & Low     \\\\\n",
       "\t 0.00 & 0.00 & 0.50 & 0.20 & 0.85 & High    \\\\\n",
       "\\end{tabular}\n"
      ],
      "text/markdown": [
       "\n",
       "A tibble: 10 × 6\n",
       "\n",
       "| STG &lt;dbl&gt; | SCG &lt;dbl&gt; | STR &lt;dbl&gt; | LPR &lt;dbl&gt; | PEG &lt;dbl&gt; | UNS &lt;chr&gt; |\n",
       "|---|---|---|---|---|---|\n",
       "| 0.00 | 0.00 | 0.00 | 0.00 | 0.00 | very_low |\n",
       "| 0.08 | 0.08 | 0.10 | 0.24 | 0.90 | High     |\n",
       "| 0.06 | 0.06 | 0.05 | 0.25 | 0.33 | Low      |\n",
       "| ⋮ | ⋮ | ⋮ | ⋮ | ⋮ | ⋮ |\n",
       "| 0.15 | 0.02 | 0.34 | 0.40 | 0.01 | very_low |\n",
       "| 0.20 | 0.14 | 0.35 | 0.72 | 0.25 | Low      |\n",
       "| 0.00 | 0.00 | 0.50 | 0.20 | 0.85 | High     |\n",
       "\n"
      ],
      "text/plain": [
       "   STG  SCG  STR  LPR  PEG  UNS     \n",
       "1  0.00 0.00 0.00 0.00 0.00 very_low\n",
       "2  0.08 0.08 0.10 0.24 0.90 High    \n",
       "3  0.06 0.06 0.05 0.25 0.33 Low     \n",
       "⋮  ⋮    ⋮    ⋮    ⋮    ⋮    ⋮       \n",
       "8  0.15 0.02 0.34 0.40 0.01 very_low\n",
       "9  0.20 0.14 0.35 0.72 0.25 Low     \n",
       "10 0.00 0.00 0.50 0.20 0.85 High    "
      ]
     },
     "metadata": {},
     "output_type": "display_data"
    },
    {
     "name": "stderr",
     "output_type": "stream",
     "text": [
      "New names:\n",
      "* `` -> ...7\n",
      "* `` -> ...8\n",
      "\n"
     ]
    },
    {
     "data": {
      "text/html": [
       "<table class=\"dataframe\">\n",
       "<caption>A tibble: 10 × 6</caption>\n",
       "<thead>\n",
       "\t<tr><th scope=col>STG</th><th scope=col>SCG</th><th scope=col>STR</th><th scope=col>LPR</th><th scope=col>PEG</th><th scope=col>UNS</th></tr>\n",
       "\t<tr><th scope=col>&lt;dbl&gt;</th><th scope=col>&lt;dbl&gt;</th><th scope=col>&lt;dbl&gt;</th><th scope=col>&lt;dbl&gt;</th><th scope=col>&lt;dbl&gt;</th><th scope=col>&lt;dbl&gt;</th></tr>\n",
       "</thead>\n",
       "<tbody>\n",
       "\t<tr><td>0.00</td><td>0.00</td><td>0.00</td><td>0.00</td><td>0.00</td><td>1</td></tr>\n",
       "\t<tr><td>0.08</td><td>0.08</td><td>0.10</td><td>0.24</td><td>0.90</td><td>4</td></tr>\n",
       "\t<tr><td>0.06</td><td>0.06</td><td>0.05</td><td>0.25</td><td>0.33</td><td>2</td></tr>\n",
       "\t<tr><td>⋮</td><td>⋮</td><td>⋮</td><td>⋮</td><td>⋮</td><td>⋮</td></tr>\n",
       "\t<tr><td>0.15</td><td>0.02</td><td>0.34</td><td>0.40</td><td>0.01</td><td>1</td></tr>\n",
       "\t<tr><td>0.20</td><td>0.14</td><td>0.35</td><td>0.72</td><td>0.25</td><td>2</td></tr>\n",
       "\t<tr><td>0.00</td><td>0.00</td><td>0.50</td><td>0.20</td><td>0.85</td><td>4</td></tr>\n",
       "</tbody>\n",
       "</table>\n"
      ],
      "text/latex": [
       "A tibble: 10 × 6\n",
       "\\begin{tabular}{llllll}\n",
       " STG & SCG & STR & LPR & PEG & UNS\\\\\n",
       " <dbl> & <dbl> & <dbl> & <dbl> & <dbl> & <dbl>\\\\\n",
       "\\hline\n",
       "\t 0.00 & 0.00 & 0.00 & 0.00 & 0.00 & 1\\\\\n",
       "\t 0.08 & 0.08 & 0.10 & 0.24 & 0.90 & 4\\\\\n",
       "\t 0.06 & 0.06 & 0.05 & 0.25 & 0.33 & 2\\\\\n",
       "\t ⋮ & ⋮ & ⋮ & ⋮ & ⋮ & ⋮\\\\\n",
       "\t 0.15 & 0.02 & 0.34 & 0.40 & 0.01 & 1\\\\\n",
       "\t 0.20 & 0.14 & 0.35 & 0.72 & 0.25 & 2\\\\\n",
       "\t 0.00 & 0.00 & 0.50 & 0.20 & 0.85 & 4\\\\\n",
       "\\end{tabular}\n"
      ],
      "text/markdown": [
       "\n",
       "A tibble: 10 × 6\n",
       "\n",
       "| STG &lt;dbl&gt; | SCG &lt;dbl&gt; | STR &lt;dbl&gt; | LPR &lt;dbl&gt; | PEG &lt;dbl&gt; | UNS &lt;dbl&gt; |\n",
       "|---|---|---|---|---|---|\n",
       "| 0.00 | 0.00 | 0.00 | 0.00 | 0.00 | 1 |\n",
       "| 0.08 | 0.08 | 0.10 | 0.24 | 0.90 | 4 |\n",
       "| 0.06 | 0.06 | 0.05 | 0.25 | 0.33 | 2 |\n",
       "| ⋮ | ⋮ | ⋮ | ⋮ | ⋮ | ⋮ |\n",
       "| 0.15 | 0.02 | 0.34 | 0.40 | 0.01 | 1 |\n",
       "| 0.20 | 0.14 | 0.35 | 0.72 | 0.25 | 2 |\n",
       "| 0.00 | 0.00 | 0.50 | 0.20 | 0.85 | 4 |\n",
       "\n"
      ],
      "text/plain": [
       "   STG  SCG  STR  LPR  PEG  UNS\n",
       "1  0.00 0.00 0.00 0.00 0.00 1  \n",
       "2  0.08 0.08 0.10 0.24 0.90 4  \n",
       "3  0.06 0.06 0.05 0.25 0.33 2  \n",
       "⋮  ⋮    ⋮    ⋮    ⋮    ⋮    ⋮  \n",
       "8  0.15 0.02 0.34 0.40 0.01 1  \n",
       "9  0.20 0.14 0.35 0.72 0.25 2  \n",
       "10 0.00 0.00 0.50 0.20 0.85 4  "
      ]
     },
     "metadata": {},
     "output_type": "display_data"
    }
   ],
   "source": [
    "download.file(\"https://archive.ics.uci.edu/ml/machine-learning-databases/00257/Data_User_Modeling_Dataset_Hamdi%20Tolga%20KAHRAMAN.xls\", \n",
    "              \"user_modeling_data.xls\")        #loads data from the original source on the web \n",
    "\n",
    "original_training <- read_excel('user_modeling_data.xls', sheet = 2)%>%     #only read the second sheet from the file (the training data)\n",
    "                     select(STG : UNS)\n",
    "head(original_training,10)\n",
    "\n",
    "whole_training <- read_excel('user_modeling_data.xls', sheet = 2)%>%     #only read the second sheet from the file (the training data)\n",
    "                     select(STG : UNS)%>%              #select columns from STG to UNS\n",
    "                     mutate(UNS = c(1,4,2,3)[as_factor(UNS)])      #change the categorical data of the UNS column into numeric form in specific order\n",
    "head(whole_training,10)    # take a look at the first ten rows of the edited dataset"
   ]
  },
  {
   "cell_type": "markdown",
   "metadata": {},
   "source": [
    "Now we can see from the table above that all the four categories in the UNS column are assigned a number corresponding to the data point's knowledge level. So now we are able to use the ggpairs function to visualize the correlations between all variables with UNS."
   ]
  },
  {
   "cell_type": "code",
   "execution_count": 15,
   "metadata": {},
   "outputs": [
    {
     "data": {
      "image/png": "[encoded data removed]",
      "text/plain": [
       "plot without title"
      ]
     },
     "metadata": {
      "image/png": {
       "height": 420,
       "width": 420
      }
     },
     "output_type": "display_data"
    }
   ],
   "source": [
    "ggpairs(whole_training)"
   ]
  },
  {
   "cell_type": "markdown",
   "metadata": {},
   "source": [
    "<br>\n",
    "We can see from the above plot that only PEG has a strong positive correlation with UNS, at a value of 0.911. This is why we chose PEG as the only predictor, as all the other predictors have a very low correlation value."
   ]
  },
  {
   "cell_type": "markdown",
   "metadata": {},
   "source": [
    "<br>"
   ]
  },
  {
   "cell_type": "markdown",
   "metadata": {},
   "source": [
    "Now we can just select the PEG and UNS columns for both training data and testing data from the original dataset. Since we have chosen the predictor, we no longer need to keep the UNS column in a numeric form. Notice that we renamed one of the values of the UNS column in the testing data to make all the categories have the same name. (The testing data represents the lowest level as \"Very Low\", but the training data uses \"very_low\" to represent the lowest level.) If we don't do this, the accuracy of our prediction would be seriously affected."
   ]
  },
  {
   "cell_type": "code",
   "execution_count": 16,
   "metadata": {},
   "outputs": [
    {
     "name": "stderr",
     "output_type": "stream",
     "text": [
      "New names:\n",
      "* `` -> ...7\n",
      "* `` -> ...8\n",
      "\n"
     ]
    },
    {
     "data": {
      "text/html": [
       "<table class=\"dataframe\">\n",
       "<caption>A tibble: 10 × 2</caption>\n",
       "<thead>\n",
       "\t<tr><th scope=col>PEG</th><th scope=col>UNS</th></tr>\n",
       "\t<tr><th scope=col>&lt;dbl&gt;</th><th scope=col>&lt;fct&gt;</th></tr>\n",
       "</thead>\n",
       "<tbody>\n",
       "\t<tr><td>0.00</td><td>very_low</td></tr>\n",
       "\t<tr><td>0.90</td><td>High    </td></tr>\n",
       "\t<tr><td>0.33</td><td>Low     </td></tr>\n",
       "\t<tr><td>⋮</td><td>⋮</td></tr>\n",
       "\t<tr><td>0.01</td><td>very_low</td></tr>\n",
       "\t<tr><td>0.25</td><td>Low     </td></tr>\n",
       "\t<tr><td>0.85</td><td>High    </td></tr>\n",
       "</tbody>\n",
       "</table>\n"
      ],
      "text/latex": [
       "A tibble: 10 × 2\n",
       "\\begin{tabular}{ll}\n",
       " PEG & UNS\\\\\n",
       " <dbl> & <fct>\\\\\n",
       "\\hline\n",
       "\t 0.00 & very\\_low\\\\\n",
       "\t 0.90 & High    \\\\\n",
       "\t 0.33 & Low     \\\\\n",
       "\t ⋮ & ⋮\\\\\n",
       "\t 0.01 & very\\_low\\\\\n",
       "\t 0.25 & Low     \\\\\n",
       "\t 0.85 & High    \\\\\n",
       "\\end{tabular}\n"
      ],
      "text/markdown": [
       "\n",
       "A tibble: 10 × 2\n",
       "\n",
       "| PEG &lt;dbl&gt; | UNS &lt;fct&gt; |\n",
       "|---|---|\n",
       "| 0.00 | very_low |\n",
       "| 0.90 | High     |\n",
       "| 0.33 | Low      |\n",
       "| ⋮ | ⋮ |\n",
       "| 0.01 | very_low |\n",
       "| 0.25 | Low      |\n",
       "| 0.85 | High     |\n",
       "\n"
      ],
      "text/plain": [
       "   PEG  UNS     \n",
       "1  0.00 very_low\n",
       "2  0.90 High    \n",
       "3  0.33 Low     \n",
       "⋮  ⋮    ⋮       \n",
       "8  0.01 very_low\n",
       "9  0.25 Low     \n",
       "10 0.85 High    "
      ]
     },
     "metadata": {},
     "output_type": "display_data"
    },
    {
     "name": "stderr",
     "output_type": "stream",
     "text": [
      "New names:\n",
      "* `` -> ...7\n",
      "* `` -> ...8\n",
      "\n"
     ]
    },
    {
     "data": {
      "text/html": [
       "<table class=\"dataframe\">\n",
       "<caption>A tibble: 10 × 2</caption>\n",
       "<thead>\n",
       "\t<tr><th scope=col>PEG</th><th scope=col>UNS</th></tr>\n",
       "\t<tr><th scope=col>&lt;dbl&gt;</th><th scope=col>&lt;fct&gt;</th></tr>\n",
       "</thead>\n",
       "<tbody>\n",
       "\t<tr><td>0.05</td><td>very_low</td></tr>\n",
       "\t<tr><td>0.14</td><td>Low     </td></tr>\n",
       "\t<tr><td>0.85</td><td>High    </td></tr>\n",
       "\t<tr><td>⋮</td><td>⋮</td></tr>\n",
       "\t<tr><td>0.15</td><td>Low     </td></tr>\n",
       "\t<tr><td>0.80</td><td>High    </td></tr>\n",
       "\t<tr><td>0.07</td><td>very_low</td></tr>\n",
       "</tbody>\n",
       "</table>\n"
      ],
      "text/latex": [
       "A tibble: 10 × 2\n",
       "\\begin{tabular}{ll}\n",
       " PEG & UNS\\\\\n",
       " <dbl> & <fct>\\\\\n",
       "\\hline\n",
       "\t 0.05 & very\\_low\\\\\n",
       "\t 0.14 & Low     \\\\\n",
       "\t 0.85 & High    \\\\\n",
       "\t ⋮ & ⋮\\\\\n",
       "\t 0.15 & Low     \\\\\n",
       "\t 0.80 & High    \\\\\n",
       "\t 0.07 & very\\_low\\\\\n",
       "\\end{tabular}\n"
      ],
      "text/markdown": [
       "\n",
       "A tibble: 10 × 2\n",
       "\n",
       "| PEG &lt;dbl&gt; | UNS &lt;fct&gt; |\n",
       "|---|---|\n",
       "| 0.05 | very_low |\n",
       "| 0.14 | Low      |\n",
       "| 0.85 | High     |\n",
       "| ⋮ | ⋮ |\n",
       "| 0.15 | Low      |\n",
       "| 0.80 | High     |\n",
       "| 0.07 | very_low |\n",
       "\n"
      ],
      "text/plain": [
       "   PEG  UNS     \n",
       "1  0.05 very_low\n",
       "2  0.14 Low     \n",
       "3  0.85 High    \n",
       "⋮  ⋮    ⋮       \n",
       "8  0.15 Low     \n",
       "9  0.80 High    \n",
       "10 0.07 very_low"
      ]
     },
     "metadata": {},
     "output_type": "display_data"
    }
   ],
   "source": [
    "# create the training data\n",
    "dataset_training <- read_excel('user_modeling_data.xls', sheet = 2)%>%     #only read the second sheet from the file (which consists of the training data)\n",
    "                     select(PEG,UNS)%>%              #select only predictor and target variable columns\n",
    "                     mutate(UNS = as_factor(UNS))   # change the UNS column into factor form\n",
    "head(dataset_training,10)       # take a look at the first 10 rows of the training data\n",
    "\n",
    "# create the testing data\n",
    "dataset_testing <- read_excel('user_modeling_data.xls', sheet = 3)%>%     #only read the third sheet from the file (which consists of the testing data)\n",
    "                     select(PEG,UNS)%>%             #select only predictor and target variable columns\n",
    "                     mutate(UNS = ifelse(UNS == \"Very Low\", \"very_low\", UNS))%>%   # make all the values in UNS column same for training and testing data\n",
    "                     mutate(UNS = as_factor(UNS))         # change the UNS column into factor form\n",
    "head(dataset_testing,10)    # take a look at the first 10 rows of the testing data"
   ]
  },
  {
   "cell_type": "code",
   "execution_count": 17,
   "metadata": {},
   "outputs": [],
   "source": [
    "dataset_testing$UNS <- ordered(dataset_testing$UNS, levels = c(\"very_low\", \"High\", \"Low\", \"Middle\"))  #makes the factor levels of the training and testing data the same, originally was different"
   ]
  },
  {
   "cell_type": "markdown",
   "metadata": {},
   "source": [
    "<br>"
   ]
  },
  {
   "cell_type": "markdown",
   "metadata": {},
   "source": [
    "By making a table, we can see the distribution of each status in the training data in regards to their counts and percentages. </i>"
   ]
  },
  {
   "cell_type": "code",
   "execution_count": 25,
   "metadata": {},
   "outputs": [
    {
     "data": {
      "text/html": [
       "<table class=\"dataframe\">\n",
       "<caption>A tibble: 4 × 3</caption>\n",
       "<thead>\n",
       "\t<tr><th scope=col>UNS</th><th scope=col>count</th><th scope=col>percentage</th></tr>\n",
       "\t<tr><th scope=col>&lt;fct&gt;</th><th scope=col>&lt;int&gt;</th><th scope=col>&lt;dbl&gt;</th></tr>\n",
       "</thead>\n",
       "<tbody>\n",
       "\t<tr><td>very_low</td><td>24</td><td> 9.302326</td></tr>\n",
       "\t<tr><td>High    </td><td>63</td><td>24.418605</td></tr>\n",
       "\t<tr><td>Low     </td><td>83</td><td>32.170543</td></tr>\n",
       "\t<tr><td>Middle  </td><td>88</td><td>34.108527</td></tr>\n",
       "</tbody>\n",
       "</table>\n"
      ],
      "text/latex": [
       "A tibble: 4 × 3\n",
       "\\begin{tabular}{lll}\n",
       " UNS & count & percentage\\\\\n",
       " <fct> & <int> & <dbl>\\\\\n",
       "\\hline\n",
       "\t very\\_low & 24 &  9.302326\\\\\n",
       "\t High     & 63 & 24.418605\\\\\n",
       "\t Low      & 83 & 32.170543\\\\\n",
       "\t Middle   & 88 & 34.108527\\\\\n",
       "\\end{tabular}\n"
      ],
      "text/markdown": [
       "\n",
       "A tibble: 4 × 3\n",
       "\n",
       "| UNS &lt;fct&gt; | count &lt;int&gt; | percentage &lt;dbl&gt; |\n",
       "|---|---|---|\n",
       "| very_low | 24 |  9.302326 |\n",
       "| High     | 63 | 24.418605 |\n",
       "| Low      | 83 | 32.170543 |\n",
       "| Middle   | 88 | 34.108527 |\n",
       "\n"
      ],
      "text/plain": [
       "  UNS      count percentage\n",
       "1 very_low 24     9.302326 \n",
       "2 High     63    24.418605 \n",
       "3 Low      83    32.170543 \n",
       "4 Middle   88    34.108527 "
      ]
     },
     "metadata": {},
     "output_type": "display_data"
    }
   ],
   "source": [
    "num_UNS <- dataset_training %>%\n",
    "           group_by(UNS) %>%        # group by the UNS column\n",
    "           dplyr::summarise(count = n(),             #calculate the number of observations for each status of UNS, dplyr since R was confused on which library to use\n",
    "                     percentage = n() / nrow(dataset_training) *100)    #calculates the percentage of each UNS category\n",
    "num_UNS"
   ]
  },
  {
   "cell_type": "markdown",
   "metadata": {},
   "source": [
    "We also concluded there is no missing data in the training data. </b>"
   ]
  },
  {
   "cell_type": "code",
   "execution_count": 26,
   "metadata": {},
   "outputs": [
    {
     "data": {
      "text/html": [
       "0"
      ],
      "text/latex": [
       "0"
      ],
      "text/markdown": [
       "0"
      ],
      "text/plain": [
       "[1] 0"
      ]
     },
     "metadata": {},
     "output_type": "display_data"
    },
    {
     "data": {
      "text/html": [
       "0"
      ],
      "text/latex": [
       "0"
      ],
      "text/markdown": [
       "0"
      ],
      "text/plain": [
       "[1] 0"
      ]
     },
     "metadata": {},
     "output_type": "display_data"
    }
   ],
   "source": [
    "nrow(dataset_training%>%filter(is.na(UNS)))   # find the number of rows with missing data in UNS column\n",
    "nrow(dataset_training%>%filter(is.na(PEG)))   # find the number of rows with missing data in PEG column"
   ]
  },
  {
   "cell_type": "markdown",
   "metadata": {},
   "source": [
    "Here we calculated the mean of PEG scores for training data."
   ]
  },
  {
   "cell_type": "markdown",
   "metadata": {},
   "source": [
    "Through R, we also calculated the average PEG score for the training data to be 0.46"
   ]
  },
  {
   "cell_type": "code",
   "execution_count": 27,
   "metadata": {},
   "outputs": [
    {
     "data": {
      "text/html": [
       "<table class=\"dataframe\">\n",
       "<caption>A tibble: 1 × 1</caption>\n",
       "<thead>\n",
       "\t<tr><th scope=col>PEGavg</th></tr>\n",
       "\t<tr><th scope=col>&lt;dbl&gt;</th></tr>\n",
       "</thead>\n",
       "<tbody>\n",
       "\t<tr><td>0.4585388</td></tr>\n",
       "</tbody>\n",
       "</table>\n"
      ],
      "text/latex": [
       "A tibble: 1 × 1\n",
       "\\begin{tabular}{l}\n",
       " PEGavg\\\\\n",
       " <dbl>\\\\\n",
       "\\hline\n",
       "\t 0.4585388\\\\\n",
       "\\end{tabular}\n"
      ],
      "text/markdown": [
       "\n",
       "A tibble: 1 × 1\n",
       "\n",
       "| PEGavg &lt;dbl&gt; |\n",
       "|---|\n",
       "| 0.4585388 |\n",
       "\n"
      ],
      "text/plain": [
       "  PEGavg   \n",
       "1 0.4585388"
      ]
     },
     "metadata": {},
     "output_type": "display_data"
    }
   ],
   "source": [
    "PEGavg <- dataset_training %>%\n",
    "          summarize(PEGavg = mean(PEG))   #calculate the mean PEG score in the training set\n",
    "PEGavg"
   ]
  },
  {
   "cell_type": "markdown",
   "metadata": {},
   "source": [
    "- <u>Visualization relevant for exploratory data analysis related to the planned analysis:</u>"
   ]
  },
  {
   "cell_type": "markdown",
   "metadata": {},
   "source": [
    "Lastly, We drew a bar plot to visualize the distribution of PEG (the exam performance of user for goal objects) over UNS (the knowledge level of user)."
   ]
  },
  {
   "cell_type": "code",
   "execution_count": 28,
   "metadata": {},
   "outputs": [
    {
     "data": {
      "image/png": "[encoded data removed]",
      "text/plain": [
       "plot without title"
      ]
     },
     "metadata": {
      "image/png": {
       "height": 420,
       "width": 420
      }
     },
     "output_type": "display_data"
    }
   ],
   "source": [
    "plot <- dataset_training %>%\n",
    "         ggplot(aes(x = UNS, y = PEG)) + geom_bar(stat = \"identity\") + \n",
    "         labs(x = \"UNS (The knowledge level of user)\" , \n",
    "              y = \"PEG (Exam performance of user for goal objects)\") + \n",
    "         theme(text = element_text(size = 15))+\n",
    "         ggtitle(\"Distribution of PEG over UNS\")\n",
    "plot"
   ]
  },
  {
   "cell_type": "markdown",
   "metadata": {},
   "source": [
    "We can see from the plot that there are more users with increasing knowledge level of users. Most of the users have a middle to high level of knowledge, and the number of users with very low knowledge level is quite small."
   ]
  },
  {
   "cell_type": "markdown",
   "metadata": {},
   "source": [
    "<br>"
   ]
  },
  {
   "cell_type": "markdown",
   "metadata": {},
   "source": [
    "- <u>Data analysis: </u>"
   ]
  },
  {
   "cell_type": "markdown",
   "metadata": {},
   "source": [
    "We used cross validation to find the k value which gives us the highest accuracy. We can see from both the line plot and the first row of the table that K should be 14, since it gives us the highest accuracy at 84.07%."
   ]
  },
  {
   "cell_type": "code",
   "execution_count": 29,
   "metadata": {},
   "outputs": [
    {
     "data": {
      "text/html": [
       "<table class=\"dataframe\">\n",
       "<caption>A tibble: 20 × 7</caption>\n",
       "<thead>\n",
       "\t<tr><th scope=col>neighbors</th><th scope=col>.metric</th><th scope=col>.estimator</th><th scope=col>mean</th><th scope=col>n</th><th scope=col>std_err</th><th scope=col>.config</th></tr>\n",
       "\t<tr><th scope=col>&lt;int&gt;</th><th scope=col>&lt;chr&gt;</th><th scope=col>&lt;chr&gt;</th><th scope=col>&lt;dbl&gt;</th><th scope=col>&lt;int&gt;</th><th scope=col>&lt;dbl&gt;</th><th scope=col>&lt;chr&gt;</th></tr>\n",
       "</thead>\n",
       "<tbody>\n",
       "\t<tr><td>14</td><td>accuracy</td><td>multiclass</td><td>0.8406679</td><td>5</td><td>0.03606059</td><td>Preprocessor1_Model14</td></tr>\n",
       "\t<tr><td>11</td><td>accuracy</td><td>multiclass</td><td>0.8405140</td><td>5</td><td>0.03641189</td><td>Preprocessor1_Model11</td></tr>\n",
       "\t<tr><td>12</td><td>accuracy</td><td>multiclass</td><td>0.8405140</td><td>5</td><td>0.03641189</td><td>Preprocessor1_Model12</td></tr>\n",
       "\t<tr><td>⋮</td><td>⋮</td><td>⋮</td><td>⋮</td><td>⋮</td><td>⋮</td><td>⋮</td></tr>\n",
       "\t<tr><td>3</td><td>accuracy</td><td>multiclass</td><td>0.7982067</td><td>5</td><td>0.01076237</td><td>Preprocessor1_Model03</td></tr>\n",
       "\t<tr><td>2</td><td>accuracy</td><td>multiclass</td><td>0.7745987</td><td>5</td><td>0.01932981</td><td>Preprocessor1_Model02</td></tr>\n",
       "\t<tr><td>1</td><td>accuracy</td><td>multiclass</td><td>0.7510662</td><td>5</td><td>0.02717302</td><td>Preprocessor1_Model01</td></tr>\n",
       "</tbody>\n",
       "</table>\n"
      ],
      "text/latex": [
       "A tibble: 20 × 7\n",
       "\\begin{tabular}{lllllll}\n",
       " neighbors & .metric & .estimator & mean & n & std\\_err & .config\\\\\n",
       " <int> & <chr> & <chr> & <dbl> & <int> & <dbl> & <chr>\\\\\n",
       "\\hline\n",
       "\t 14 & accuracy & multiclass & 0.8406679 & 5 & 0.03606059 & Preprocessor1\\_Model14\\\\\n",
       "\t 11 & accuracy & multiclass & 0.8405140 & 5 & 0.03641189 & Preprocessor1\\_Model11\\\\\n",
       "\t 12 & accuracy & multiclass & 0.8405140 & 5 & 0.03641189 & Preprocessor1\\_Model12\\\\\n",
       "\t ⋮ & ⋮ & ⋮ & ⋮ & ⋮ & ⋮ & ⋮\\\\\n",
       "\t 3 & accuracy & multiclass & 0.7982067 & 5 & 0.01076237 & Preprocessor1\\_Model03\\\\\n",
       "\t 2 & accuracy & multiclass & 0.7745987 & 5 & 0.01932981 & Preprocessor1\\_Model02\\\\\n",
       "\t 1 & accuracy & multiclass & 0.7510662 & 5 & 0.02717302 & Preprocessor1\\_Model01\\\\\n",
       "\\end{tabular}\n"
      ],
      "text/markdown": [
       "\n",
       "A tibble: 20 × 7\n",
       "\n",
       "| neighbors &lt;int&gt; | .metric &lt;chr&gt; | .estimator &lt;chr&gt; | mean &lt;dbl&gt; | n &lt;int&gt; | std_err &lt;dbl&gt; | .config &lt;chr&gt; |\n",
       "|---|---|---|---|---|---|---|\n",
       "| 14 | accuracy | multiclass | 0.8406679 | 5 | 0.03606059 | Preprocessor1_Model14 |\n",
       "| 11 | accuracy | multiclass | 0.8405140 | 5 | 0.03641189 | Preprocessor1_Model11 |\n",
       "| 12 | accuracy | multiclass | 0.8405140 | 5 | 0.03641189 | Preprocessor1_Model12 |\n",
       "| ⋮ | ⋮ | ⋮ | ⋮ | ⋮ | ⋮ | ⋮ |\n",
       "| 3 | accuracy | multiclass | 0.7982067 | 5 | 0.01076237 | Preprocessor1_Model03 |\n",
       "| 2 | accuracy | multiclass | 0.7745987 | 5 | 0.01932981 | Preprocessor1_Model02 |\n",
       "| 1 | accuracy | multiclass | 0.7510662 | 5 | 0.02717302 | Preprocessor1_Model01 |\n",
       "\n"
      ],
      "text/plain": [
       "   neighbors .metric  .estimator mean      n std_err    .config              \n",
       "1  14        accuracy multiclass 0.8406679 5 0.03606059 Preprocessor1_Model14\n",
       "2  11        accuracy multiclass 0.8405140 5 0.03641189 Preprocessor1_Model11\n",
       "3  12        accuracy multiclass 0.8405140 5 0.03641189 Preprocessor1_Model12\n",
       "⋮  ⋮         ⋮        ⋮          ⋮         ⋮ ⋮          ⋮                    \n",
       "18 3         accuracy multiclass 0.7982067 5 0.01076237 Preprocessor1_Model03\n",
       "19 2         accuracy multiclass 0.7745987 5 0.01932981 Preprocessor1_Model02\n",
       "20 1         accuracy multiclass 0.7510662 5 0.02717302 Preprocessor1_Model01"
      ]
     },
     "metadata": {},
     "output_type": "display_data"
    },
    {
     "data": {
      "image/png": "[encoded data removed]",
      "text/plain": [
       "plot without title"
      ]
     },
     "metadata": {
      "image/png": {
       "height": 420,
       "width": 420
      }
     },
     "output_type": "display_data"
    }
   ],
   "source": [
    "# Find the k value that results in the model having the highest accuracy using cross validation\n",
    "set.seed(9999)\n",
    "vfold <- vfold_cv(dataset_training, v = 5, strata = UNS)   # seperate the data into five random groups\n",
    "\n",
    "recipe <- recipe(UNS ~ PEG, data = dataset_training) %>%   # selected our target variable to be UNS and predictor variable to be PEG\n",
    "                step_scale(all_predictors()) %>%  \n",
    "                step_center(all_predictors()) # scaling and centering the predictor variable so that each variable is worth the same\n",
    "\n",
    "knn_spec <- nearest_neighbor(weight_func = \"rectangular\", neighbors = tune()) %>%  #tuning the K value\n",
    "             set_engine(\"kknn\") %>%      #tells R that we're using the K-nearest neighbors algorithm for our model\n",
    "             set_mode(\"classification\")  #tells R that we're using classification for our model    \n",
    "\n",
    "wkflw <- workflow() %>%                              #creates a workflow\n",
    "             add_recipe(recipe) %>%                  #adds the recipe into the workflow\n",
    "             add_model(knn_spec)                     #adds the model into the workflow\n",
    "\n",
    "gridvals <- tibble(neighbors = seq(from = 1, to = 20))   #creates the list of k values we are going to test\n",
    "\n",
    "results <- wkflw  %>%\n",
    "           tune_grid(resamples = vfold, grid = gridvals)  %>%\n",
    "           collect_metrics() %>%          \n",
    "           filter(.metric == \"accuracy\")%>%    #filters out only the rows with the accuracy metric               \n",
    "           arrange(desc(mean))                 #arranges the rows in descending order of accuracy\n",
    "results\n",
    "\n",
    "accuracy_vs_k <- ggplot(results, aes(x = neighbors, y = mean)) +     #graphs a K vs accuracy scatterplot (to represent which K value maximizes the model's accuracy)\n",
    "                 geom_point() + geom_line() +                        #specifies that each point in the graph will have a dot and lines that connects each dot together\n",
    "                 labs(x = \"Neighbors\", y = \"Accuracy Estimate\") +    #gives the x and y axis titles\n",
    "                 scale_x_continuous(breaks = seq(0, 20, by = 1)) +   #makes it easier to match each point in the graph with its k value\n",
    "                 ggtitle(\"K Neighbours vs Accuracy\")                 #gives the graph a title\n",
    "\n",
    "accuracy_vs_k\n",
    "\n",
    "kmin <- results %>%           #find the k value with highest accuracy\n",
    "        slice(1) %>%          #slices the first row of the dataframe to get the row with the highest accuracy (since the dataframe was arranged by accuracy in descending order)\n",
    "        pull(neighbors)       #pulls the number of neighbors in the neighbors column "
   ]
  },
  {
   "cell_type": "markdown",
   "metadata": {},
   "source": [
    "Now that we have calculated the most suitable K value for the model, we just plugged it in and ran the classifier."
   ]
  },
  {
   "cell_type": "code",
   "execution_count": 30,
   "metadata": {},
   "outputs": [
    {
     "data": {
      "text/html": [
       "<table class=\"dataframe\">\n",
       "<caption>A tibble: 145 × 3</caption>\n",
       "<thead>\n",
       "\t<tr><th scope=col>.pred_class</th><th scope=col>PEG</th><th scope=col>UNS</th></tr>\n",
       "\t<tr><th scope=col>&lt;fct&gt;</th><th scope=col>&lt;dbl&gt;</th><th scope=col>&lt;ord&gt;</th></tr>\n",
       "</thead>\n",
       "<tbody>\n",
       "\t<tr><td>very_low</td><td>0.05</td><td>very_low</td></tr>\n",
       "\t<tr><td>Low     </td><td>0.14</td><td>Low     </td></tr>\n",
       "\t<tr><td>High    </td><td>0.85</td><td>High    </td></tr>\n",
       "\t<tr><td>⋮</td><td>⋮</td><td>⋮</td></tr>\n",
       "\t<tr><td>Low   </td><td>0.32</td><td>Low   </td></tr>\n",
       "\t<tr><td>Middle</td><td>0.57</td><td>Middle</td></tr>\n",
       "\t<tr><td>Low   </td><td>0.24</td><td>Middle</td></tr>\n",
       "</tbody>\n",
       "</table>\n"
      ],
      "text/latex": [
       "A tibble: 145 × 3\n",
       "\\begin{tabular}{lll}\n",
       " .pred\\_class & PEG & UNS\\\\\n",
       " <fct> & <dbl> & <ord>\\\\\n",
       "\\hline\n",
       "\t very\\_low & 0.05 & very\\_low\\\\\n",
       "\t Low      & 0.14 & Low     \\\\\n",
       "\t High     & 0.85 & High    \\\\\n",
       "\t ⋮ & ⋮ & ⋮\\\\\n",
       "\t Low    & 0.32 & Low   \\\\\n",
       "\t Middle & 0.57 & Middle\\\\\n",
       "\t Low    & 0.24 & Middle\\\\\n",
       "\\end{tabular}\n"
      ],
      "text/markdown": [
       "\n",
       "A tibble: 145 × 3\n",
       "\n",
       "| .pred_class &lt;fct&gt; | PEG &lt;dbl&gt; | UNS &lt;ord&gt; |\n",
       "|---|---|---|\n",
       "| very_low | 0.05 | very_low |\n",
       "| Low      | 0.14 | Low      |\n",
       "| High     | 0.85 | High     |\n",
       "| ⋮ | ⋮ | ⋮ |\n",
       "| Low    | 0.32 | Low    |\n",
       "| Middle | 0.57 | Middle |\n",
       "| Low    | 0.24 | Middle |\n",
       "\n"
      ],
      "text/plain": [
       "    .pred_class PEG  UNS     \n",
       "1   very_low    0.05 very_low\n",
       "2   Low         0.14 Low     \n",
       "3   High        0.85 High    \n",
       "⋮   ⋮           ⋮    ⋮       \n",
       "143 Low         0.32 Low     \n",
       "144 Middle      0.57 Middle  \n",
       "145 Low         0.24 Middle  "
      ]
     },
     "metadata": {},
     "output_type": "display_data"
    },
    {
     "data": {
      "text/html": [
       "<table class=\"dataframe\">\n",
       "<caption>A tibble: 1 × 1</caption>\n",
       "<thead>\n",
       "\t<tr><th scope=col>.estimate</th></tr>\n",
       "\t<tr><th scope=col>&lt;dbl&gt;</th></tr>\n",
       "</thead>\n",
       "<tbody>\n",
       "\t<tr><td>0.8689655</td></tr>\n",
       "</tbody>\n",
       "</table>\n"
      ],
      "text/latex": [
       "A tibble: 1 × 1\n",
       "\\begin{tabular}{l}\n",
       " .estimate\\\\\n",
       " <dbl>\\\\\n",
       "\\hline\n",
       "\t 0.8689655\\\\\n",
       "\\end{tabular}\n"
      ],
      "text/markdown": [
       "\n",
       "A tibble: 1 × 1\n",
       "\n",
       "| .estimate &lt;dbl&gt; |\n",
       "|---|\n",
       "| 0.8689655 |\n",
       "\n"
      ],
      "text/plain": [
       "  .estimate\n",
       "1 0.8689655"
      ]
     },
     "metadata": {},
     "output_type": "display_data"
    }
   ],
   "source": [
    "set.seed(9999)\n",
    "knn_spec_2 <- nearest_neighbor(weight_func = \"rectangular\", neighbors = kmin) %>%      # plug in the best k value that we found above\n",
    "              set_engine(\"kknn\") %>%      \n",
    "              set_mode(\"classification\")\n",
    "\n",
    "knn_fit <- workflow() %>%      \n",
    "           add_recipe(recipe) %>%             #adds the same recipe above\n",
    "           add_model(knn_spec_2) %>%          #adds the new model with the best k-value that we found above\n",
    "           fit(data = dataset_training)       #fit the training data\n",
    "\n",
    "predictions <- knn_fit %>%                   #fits the workflow\n",
    "               predict(dataset_testing) %>%  #predicts the UNS value  for each observation in the testing data\n",
    "               bind_cols(dataset_testing)    #puts the column with all the predictions into the testing dataframe\n",
    "predictions\n",
    "\n",
    "\n",
    "summary <- predictions %>%\n",
    "            metrics(truth = \"UNS\", estimate = \".pred_class\") %>%  #determines the accuracy (and other metrics) based on each testing set observation's predicted UNS value and actual UNS value\n",
    "           filter(.metric == \"accuracy\")%>%                       #filters out all the rows with the accuracy metric since that is the only thing we need\n",
    "           select(.estimate)                                      #selects the accuracy value\n",
    "summary"
   ]
  },
  {
   "cell_type": "code",
   "execution_count": 31,
   "metadata": {},
   "outputs": [
    {
     "data": {
      "text/plain": [
       "          Truth\n",
       "Prediction very_low High Low Middle\n",
       "  very_low       21    0   0      0\n",
       "  High            0   35   0      0\n",
       "  Low             5    0  45      9\n",
       "  Middle          0    4   1     25"
      ]
     },
     "metadata": {},
     "output_type": "display_data"
    }
   ],
   "source": [
    "conf_mat <- predictions %>%          \n",
    "            conf_mat(truth = UNS, estimate = .pred_class) #creates a confusion matrix so that we can see how many predictions for each category the model predicted correctly\n",
    "conf_mat"
   ]
  },
  {
   "cell_type": "markdown",
   "metadata": {},
   "source": [
    "<br>"
   ]
  },
  {
   "cell_type": "markdown",
   "metadata": {},
   "source": [
    "- <u>Visualization of the analysis: </u>"
   ]
  },
  {
   "cell_type": "markdown",
   "metadata": {},
   "source": [
    "<b> Discussion:"
   ]
  },
  {
   "cell_type": "code",
   "execution_count": null,
   "metadata": {},
   "outputs": [],
   "source": []
  },
  {
   "cell_type": "code",
   "execution_count": null,
   "metadata": {},
   "outputs": [],
   "source": []
  },
  {
   "cell_type": "code",
   "execution_count": null,
   "metadata": {},
   "outputs": [],
   "source": []
  },
  {
   "cell_type": "markdown",
   "metadata": {},
   "source": [
    "<b> Rerferences:"
   ]
  },
  {
   "cell_type": "code",
   "execution_count": null,
   "metadata": {},
   "outputs": [],
   "source": []
  },
  {
   "cell_type": "code",
   "execution_count": null,
   "metadata": {},
   "outputs": [],
   "source": []
  }
 ],
 "metadata": {
  "kernelspec": {
   "display_name": "R",
   "language": "R",
   "name": "ir"
  },
  "language_info": {
   "codemirror_mode": "r",
   "file_extension": ".r",
   "mimetype": "text/x-r-source",
   "name": "R",
   "pygments_lexer": "r",
   "version": "4.0.5"
  }
 },
 "nbformat": 4,
 "nbformat_minor": 4
}
