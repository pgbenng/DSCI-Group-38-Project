{
 "cells": [
  {
   "cell_type": "markdown",
   "metadata": {},
   "source": [
    "<h1> DSCI 100: Group 38 Project Proposal </h1>"
   ]
  },
  {
   "cell_type": "markdown",
   "metadata": {},
   "source": [
    "<b> Dataset title: </b> <b> <a href=\"https://archive.ics.uci.edu/ml/datasets/User+Knowledge+Modeling\"> User Knowledge Modeling Data Set </a> </b>"
   ]
  },
  {
   "cell_type": "markdown",
   "metadata": {},
   "source": [
    "<b> Introduction: </b> The dataset we are using is the “User Knowledge Modelling Dataset” from the UCI Machine Learning Repository in which the population consists of 403 undergraduate students in the Department of Electrical Education of Gazi University in the 2009 semester. \n",
    "From the raw dataset, the target value is UNS and is classified through input values: STG, SCG, STR, LPR, and PEG. We decided to remove columns: STG, SCG, and STR, and only focus on columns: LPR and PEG through vertical filtering with the appropriate model data to report on. We chose to filter based on the quality of proficiency-based learning in the exam performances of users for goal objects, and for related objects with goal objects.\n"
   ]
  },
  {
   "cell_type": "markdown",
   "metadata": {},
   "source": [
    "<b> Dataset terminology: </b>"
   ]
  },
  {
   "cell_type": "markdown",
   "metadata": {},
   "source": [
    "<b> LPR </b> - the exam performance of the users for related objects with goal object "
   ]
  },
  {
   "cell_type": "markdown",
   "metadata": {},
   "source": [
    "<b> PEG </b> - the exam performance of the users for goal objects "
   ]
  },
  {
   "cell_type": "markdown",
   "metadata": {},
   "source": [
    "<b> UNS </b> - the knowledge level of the users about the subject of Electrical DC Machines"
   ]
  },
  {
   "cell_type": "markdown",
   "metadata": {},
   "source": [
    "Our objective is to determine the category of UNS assigned to the user based on features LPR and PEG with k-NN classification. The target value is the knowledge level of students/ ‘users’ about the subject of Electrical DC Machines in which its features are LPR and PEG and its categories are:"
   ]
  },
  {
   "cell_type": "markdown",
   "metadata": {},
   "source": [
    " - Very low\n",
    " - Low\n",
    " - Middle\n",
    " - High"
   ]
  },
  {
   "cell_type": "markdown",
   "metadata": {},
   "source": [
    "<br>"
   ]
  },
  {
   "cell_type": "markdown",
   "metadata": {},
   "source": [
    "<i> Firstly, we loaded in the packages that were needed, set the seed so that everything is reproducible for the data analysis. </i>"
   ]
  },
  {
   "cell_type": "code",
   "execution_count": 1,
   "metadata": {},
   "outputs": [
    {
     "name": "stderr",
     "output_type": "stream",
     "text": [
      "── \u001b[1mAttaching packages\u001b[22m ─────────────────────────────────────── tidyverse 1.3.0 ──\n",
      "\n",
      "\u001b[32m✔\u001b[39m \u001b[34mggplot2\u001b[39m 3.3.2     \u001b[32m✔\u001b[39m \u001b[34mpurrr  \u001b[39m 0.3.4\n",
      "\u001b[32m✔\u001b[39m \u001b[34mtibble \u001b[39m 3.0.3     \u001b[32m✔\u001b[39m \u001b[34mdplyr  \u001b[39m 1.0.2\n",
      "\u001b[32m✔\u001b[39m \u001b[34mtidyr  \u001b[39m 1.1.2     \u001b[32m✔\u001b[39m \u001b[34mstringr\u001b[39m 1.4.0\n",
      "\u001b[32m✔\u001b[39m \u001b[34mreadr  \u001b[39m 1.3.1     \u001b[32m✔\u001b[39m \u001b[34mforcats\u001b[39m 0.5.0\n",
      "\n",
      "Warning message:\n",
      "“package ‘ggplot2’ was built under R version 4.0.1”\n",
      "Warning message:\n",
      "“package ‘tibble’ was built under R version 4.0.2”\n",
      "Warning message:\n",
      "“package ‘tidyr’ was built under R version 4.0.2”\n",
      "Warning message:\n",
      "“package ‘dplyr’ was built under R version 4.0.2”\n",
      "── \u001b[1mConflicts\u001b[22m ────────────────────────────────────────── tidyverse_conflicts() ──\n",
      "\u001b[31m✖\u001b[39m \u001b[34mdplyr\u001b[39m::\u001b[32mfilter()\u001b[39m masks \u001b[34mstats\u001b[39m::filter()\n",
      "\u001b[31m✖\u001b[39m \u001b[34mdplyr\u001b[39m::\u001b[32mlag()\u001b[39m    masks \u001b[34mstats\u001b[39m::lag()\n",
      "\n",
      "Warning message:\n",
      "“package ‘tidymodels’ was built under R version 4.0.2”\n",
      "── \u001b[1mAttaching packages\u001b[22m ────────────────────────────────────── tidymodels 0.1.1 ──\n",
      "\n",
      "\u001b[32m✔\u001b[39m \u001b[34mbroom    \u001b[39m 0.7.0      \u001b[32m✔\u001b[39m \u001b[34mrecipes  \u001b[39m 0.1.13\n",
      "\u001b[32m✔\u001b[39m \u001b[34mdials    \u001b[39m 0.0.9      \u001b[32m✔\u001b[39m \u001b[34mrsample  \u001b[39m 0.0.7 \n",
      "\u001b[32m✔\u001b[39m \u001b[34minfer    \u001b[39m 0.5.4      \u001b[32m✔\u001b[39m \u001b[34mtune     \u001b[39m 0.1.1 \n",
      "\u001b[32m✔\u001b[39m \u001b[34mmodeldata\u001b[39m 0.0.2      \u001b[32m✔\u001b[39m \u001b[34mworkflows\u001b[39m 0.2.0 \n",
      "\u001b[32m✔\u001b[39m \u001b[34mparsnip  \u001b[39m 0.1.3      \u001b[32m✔\u001b[39m \u001b[34myardstick\u001b[39m 0.0.7 \n",
      "\n",
      "Warning message:\n",
      "“package ‘broom’ was built under R version 4.0.2”\n",
      "Warning message:\n",
      "“package ‘dials’ was built under R version 4.0.2”\n",
      "Warning message:\n",
      "“package ‘infer’ was built under R version 4.0.3”\n",
      "Warning message:\n",
      "“package ‘modeldata’ was built under R version 4.0.1”\n",
      "Warning message:\n",
      "“package ‘parsnip’ was built under R version 4.0.2”\n",
      "Warning message:\n",
      "“package ‘recipes’ was built under R version 4.0.1”\n",
      "Warning message:\n",
      "“package ‘tune’ was built under R version 4.0.2”\n",
      "Warning message:\n",
      "“package ‘workflows’ was built under R version 4.0.2”\n",
      "Warning message:\n",
      "“package ‘yardstick’ was built under R version 4.0.2”\n",
      "── \u001b[1mConflicts\u001b[22m ───────────────────────────────────────── tidymodels_conflicts() ──\n",
      "\u001b[31m✖\u001b[39m \u001b[34mscales\u001b[39m::\u001b[32mdiscard()\u001b[39m masks \u001b[34mpurrr\u001b[39m::discard()\n",
      "\u001b[31m✖\u001b[39m \u001b[34mdplyr\u001b[39m::\u001b[32mfilter()\u001b[39m   masks \u001b[34mstats\u001b[39m::filter()\n",
      "\u001b[31m✖\u001b[39m \u001b[34mrecipes\u001b[39m::\u001b[32mfixed()\u001b[39m  masks \u001b[34mstringr\u001b[39m::fixed()\n",
      "\u001b[31m✖\u001b[39m \u001b[34mdplyr\u001b[39m::\u001b[32mlag()\u001b[39m      masks \u001b[34mstats\u001b[39m::lag()\n",
      "\u001b[31m✖\u001b[39m \u001b[34myardstick\u001b[39m::\u001b[32mspec()\u001b[39m masks \u001b[34mreadr\u001b[39m::spec()\n",
      "\u001b[31m✖\u001b[39m \u001b[34mrecipes\u001b[39m::\u001b[32mstep()\u001b[39m   masks \u001b[34mstats\u001b[39m::step()\n",
      "\n"
     ]
    }
   ],
   "source": [
    "library(tidyverse)\n",
    "library(readxl)\n",
    "library(tidymodels)\n",
    "\n",
    "set.seed(9999)"
   ]
  },
  {
   "cell_type": "markdown",
   "metadata": {},
   "source": [
    "<br>"
   ]
  },
  {
   "cell_type": "markdown",
   "metadata": {},
   "source": [
    "<i> We loaded the data into R by downloading the file, where we then read the training dataset. Then, we wrangled the data by selecting the needed variables LPR and PEG, and mutating UNS as a factor. There was no need to wrangle the data into tidy format since it was already provided as such. </i>"
   ]
  },
  {
   "cell_type": "code",
   "execution_count": 2,
   "metadata": {},
   "outputs": [
    {
     "name": "stderr",
     "output_type": "stream",
     "text": [
      "New names:\n",
      "* `` -> ...7\n",
      "* `` -> ...8\n",
      "\n"
     ]
    },
    {
     "data": {
      "text/html": [
       "<table>\n",
       "<caption>A tibble: 258 × 3</caption>\n",
       "<thead>\n",
       "\t<tr><th scope=col>LPR</th><th scope=col>PEG</th><th scope=col>UNS</th></tr>\n",
       "\t<tr><th scope=col>&lt;dbl&gt;</th><th scope=col>&lt;dbl&gt;</th><th scope=col>&lt;fct&gt;</th></tr>\n",
       "</thead>\n",
       "<tbody>\n",
       "\t<tr><td>0.00</td><td>0.00</td><td>very_low</td></tr>\n",
       "\t<tr><td>0.24</td><td>0.90</td><td>High    </td></tr>\n",
       "\t<tr><td>0.25</td><td>0.33</td><td>Low     </td></tr>\n",
       "\t<tr><td>0.65</td><td>0.30</td><td>Middle  </td></tr>\n",
       "\t<tr><td>0.98</td><td>0.24</td><td>Low     </td></tr>\n",
       "\t<tr><td>0.10</td><td>0.66</td><td>Middle  </td></tr>\n",
       "\t<tr><td>0.29</td><td>0.56</td><td>Middle  </td></tr>\n",
       "\t<tr><td>0.40</td><td>0.01</td><td>very_low</td></tr>\n",
       "\t<tr><td>0.72</td><td>0.25</td><td>Low     </td></tr>\n",
       "\t<tr><td>0.20</td><td>0.85</td><td>High    </td></tr>\n",
       "\t<tr><td>0.30</td><td>0.81</td><td>High    </td></tr>\n",
       "\t<tr><td>0.41</td><td>0.30</td><td>Low     </td></tr>\n",
       "\t<tr><td>0.78</td><td>0.34</td><td>Middle  </td></tr>\n",
       "\t<tr><td>0.15</td><td>0.90</td><td>High    </td></tr>\n",
       "\t<tr><td>0.30</td><td>0.60</td><td>Middle  </td></tr>\n",
       "\t<tr><td>0.35</td><td>0.80</td><td>High    </td></tr>\n",
       "\t<tr><td>0.01</td><td>0.05</td><td>very_low</td></tr>\n",
       "\t<tr><td>0.08</td><td>0.33</td><td>Low     </td></tr>\n",
       "\t<tr><td>0.27</td><td>0.29</td><td>Low     </td></tr>\n",
       "\t<tr><td>0.49</td><td>0.56</td><td>Middle  </td></tr>\n",
       "\t<tr><td>0.78</td><td>0.20</td><td>Low     </td></tr>\n",
       "\t<tr><td>0.12</td><td>0.66</td><td>Middle  </td></tr>\n",
       "\t<tr><td>0.29</td><td>0.65</td><td>Middle  </td></tr>\n",
       "\t<tr><td>0.42</td><td>0.28</td><td>Low     </td></tr>\n",
       "\t<tr><td>0.76</td><td>0.25</td><td>Low     </td></tr>\n",
       "\t<tr><td>0.18</td><td>0.85</td><td>High    </td></tr>\n",
       "\t<tr><td>0.25</td><td>0.10</td><td>very_low</td></tr>\n",
       "\t<tr><td>0.45</td><td>0.25</td><td>Low     </td></tr>\n",
       "\t<tr><td>0.94</td><td>0.56</td><td>High    </td></tr>\n",
       "\t<tr><td>0.21</td><td>0.81</td><td>High    </td></tr>\n",
       "\t<tr><td>⋮</td><td>⋮</td><td>⋮</td></tr>\n",
       "\t<tr><td>0.55</td><td>0.78</td><td>High  </td></tr>\n",
       "\t<tr><td>0.70</td><td>0.69</td><td>High  </td></tr>\n",
       "\t<tr><td>0.12</td><td>0.65</td><td>Middle</td></tr>\n",
       "\t<tr><td>0.28</td><td>0.28</td><td>Low   </td></tr>\n",
       "\t<tr><td>0.59</td><td>0.23</td><td>Low   </td></tr>\n",
       "\t<tr><td>0.91</td><td>0.66</td><td>High  </td></tr>\n",
       "\t<tr><td>0.15</td><td>0.62</td><td>Middle</td></tr>\n",
       "\t<tr><td>0.27</td><td>0.30</td><td>Low   </td></tr>\n",
       "\t<tr><td>0.60</td><td>0.22</td><td>Low   </td></tr>\n",
       "\t<tr><td>0.40</td><td>0.83</td><td>High  </td></tr>\n",
       "\t<tr><td>0.13</td><td>0.64</td><td>Middle</td></tr>\n",
       "\t<tr><td>0.30</td><td>0.52</td><td>Middle</td></tr>\n",
       "\t<tr><td>0.62</td><td>0.20</td><td>Low   </td></tr>\n",
       "\t<tr><td>0.78</td><td>0.86</td><td>High  </td></tr>\n",
       "\t<tr><td>0.18</td><td>0.63</td><td>Middle</td></tr>\n",
       "\t<tr><td>0.27</td><td>0.25</td><td>Low   </td></tr>\n",
       "\t<tr><td>0.65</td><td>0.25</td><td>Middle</td></tr>\n",
       "\t<tr><td>0.89</td><td>0.88</td><td>High  </td></tr>\n",
       "\t<tr><td>0.10</td><td>0.66</td><td>Middle</td></tr>\n",
       "\t<tr><td>0.29</td><td>0.29</td><td>Low   </td></tr>\n",
       "\t<tr><td>0.65</td><td>0.90</td><td>High  </td></tr>\n",
       "\t<tr><td>0.79</td><td>0.45</td><td>Middle</td></tr>\n",
       "\t<tr><td>0.09</td><td>0.66</td><td>Middle</td></tr>\n",
       "\t<tr><td>0.31</td><td>0.50</td><td>Middle</td></tr>\n",
       "\t<tr><td>0.64</td><td>0.19</td><td>Low   </td></tr>\n",
       "\t<tr><td>0.92</td><td>0.58</td><td>High  </td></tr>\n",
       "\t<tr><td>0.19</td><td>0.60</td><td>Middle</td></tr>\n",
       "\t<tr><td>0.29</td><td>0.77</td><td>High  </td></tr>\n",
       "\t<tr><td>0.61</td><td>0.26</td><td>Middle</td></tr>\n",
       "\t<tr><td>0.87</td><td>0.74</td><td>High  </td></tr>\n",
       "</tbody>\n",
       "</table>\n"
      ],
      "text/latex": [
       "A tibble: 258 × 3\n",
       "\\begin{tabular}{lll}\n",
       " LPR & PEG & UNS\\\\\n",
       " <dbl> & <dbl> & <fct>\\\\\n",
       "\\hline\n",
       "\t 0.00 & 0.00 & very\\_low\\\\\n",
       "\t 0.24 & 0.90 & High    \\\\\n",
       "\t 0.25 & 0.33 & Low     \\\\\n",
       "\t 0.65 & 0.30 & Middle  \\\\\n",
       "\t 0.98 & 0.24 & Low     \\\\\n",
       "\t 0.10 & 0.66 & Middle  \\\\\n",
       "\t 0.29 & 0.56 & Middle  \\\\\n",
       "\t 0.40 & 0.01 & very\\_low\\\\\n",
       "\t 0.72 & 0.25 & Low     \\\\\n",
       "\t 0.20 & 0.85 & High    \\\\\n",
       "\t 0.30 & 0.81 & High    \\\\\n",
       "\t 0.41 & 0.30 & Low     \\\\\n",
       "\t 0.78 & 0.34 & Middle  \\\\\n",
       "\t 0.15 & 0.90 & High    \\\\\n",
       "\t 0.30 & 0.60 & Middle  \\\\\n",
       "\t 0.35 & 0.80 & High    \\\\\n",
       "\t 0.01 & 0.05 & very\\_low\\\\\n",
       "\t 0.08 & 0.33 & Low     \\\\\n",
       "\t 0.27 & 0.29 & Low     \\\\\n",
       "\t 0.49 & 0.56 & Middle  \\\\\n",
       "\t 0.78 & 0.20 & Low     \\\\\n",
       "\t 0.12 & 0.66 & Middle  \\\\\n",
       "\t 0.29 & 0.65 & Middle  \\\\\n",
       "\t 0.42 & 0.28 & Low     \\\\\n",
       "\t 0.76 & 0.25 & Low     \\\\\n",
       "\t 0.18 & 0.85 & High    \\\\\n",
       "\t 0.25 & 0.10 & very\\_low\\\\\n",
       "\t 0.45 & 0.25 & Low     \\\\\n",
       "\t 0.94 & 0.56 & High    \\\\\n",
       "\t 0.21 & 0.81 & High    \\\\\n",
       "\t ⋮ & ⋮ & ⋮\\\\\n",
       "\t 0.55 & 0.78 & High  \\\\\n",
       "\t 0.70 & 0.69 & High  \\\\\n",
       "\t 0.12 & 0.65 & Middle\\\\\n",
       "\t 0.28 & 0.28 & Low   \\\\\n",
       "\t 0.59 & 0.23 & Low   \\\\\n",
       "\t 0.91 & 0.66 & High  \\\\\n",
       "\t 0.15 & 0.62 & Middle\\\\\n",
       "\t 0.27 & 0.30 & Low   \\\\\n",
       "\t 0.60 & 0.22 & Low   \\\\\n",
       "\t 0.40 & 0.83 & High  \\\\\n",
       "\t 0.13 & 0.64 & Middle\\\\\n",
       "\t 0.30 & 0.52 & Middle\\\\\n",
       "\t 0.62 & 0.20 & Low   \\\\\n",
       "\t 0.78 & 0.86 & High  \\\\\n",
       "\t 0.18 & 0.63 & Middle\\\\\n",
       "\t 0.27 & 0.25 & Low   \\\\\n",
       "\t 0.65 & 0.25 & Middle\\\\\n",
       "\t 0.89 & 0.88 & High  \\\\\n",
       "\t 0.10 & 0.66 & Middle\\\\\n",
       "\t 0.29 & 0.29 & Low   \\\\\n",
       "\t 0.65 & 0.90 & High  \\\\\n",
       "\t 0.79 & 0.45 & Middle\\\\\n",
       "\t 0.09 & 0.66 & Middle\\\\\n",
       "\t 0.31 & 0.50 & Middle\\\\\n",
       "\t 0.64 & 0.19 & Low   \\\\\n",
       "\t 0.92 & 0.58 & High  \\\\\n",
       "\t 0.19 & 0.60 & Middle\\\\\n",
       "\t 0.29 & 0.77 & High  \\\\\n",
       "\t 0.61 & 0.26 & Middle\\\\\n",
       "\t 0.87 & 0.74 & High  \\\\\n",
       "\\end{tabular}\n"
      ],
      "text/markdown": [
       "\n",
       "A tibble: 258 × 3\n",
       "\n",
       "| LPR &lt;dbl&gt; | PEG &lt;dbl&gt; | UNS &lt;fct&gt; |\n",
       "|---|---|---|\n",
       "| 0.00 | 0.00 | very_low |\n",
       "| 0.24 | 0.90 | High     |\n",
       "| 0.25 | 0.33 | Low      |\n",
       "| 0.65 | 0.30 | Middle   |\n",
       "| 0.98 | 0.24 | Low      |\n",
       "| 0.10 | 0.66 | Middle   |\n",
       "| 0.29 | 0.56 | Middle   |\n",
       "| 0.40 | 0.01 | very_low |\n",
       "| 0.72 | 0.25 | Low      |\n",
       "| 0.20 | 0.85 | High     |\n",
       "| 0.30 | 0.81 | High     |\n",
       "| 0.41 | 0.30 | Low      |\n",
       "| 0.78 | 0.34 | Middle   |\n",
       "| 0.15 | 0.90 | High     |\n",
       "| 0.30 | 0.60 | Middle   |\n",
       "| 0.35 | 0.80 | High     |\n",
       "| 0.01 | 0.05 | very_low |\n",
       "| 0.08 | 0.33 | Low      |\n",
       "| 0.27 | 0.29 | Low      |\n",
       "| 0.49 | 0.56 | Middle   |\n",
       "| 0.78 | 0.20 | Low      |\n",
       "| 0.12 | 0.66 | Middle   |\n",
       "| 0.29 | 0.65 | Middle   |\n",
       "| 0.42 | 0.28 | Low      |\n",
       "| 0.76 | 0.25 | Low      |\n",
       "| 0.18 | 0.85 | High     |\n",
       "| 0.25 | 0.10 | very_low |\n",
       "| 0.45 | 0.25 | Low      |\n",
       "| 0.94 | 0.56 | High     |\n",
       "| 0.21 | 0.81 | High     |\n",
       "| ⋮ | ⋮ | ⋮ |\n",
       "| 0.55 | 0.78 | High   |\n",
       "| 0.70 | 0.69 | High   |\n",
       "| 0.12 | 0.65 | Middle |\n",
       "| 0.28 | 0.28 | Low    |\n",
       "| 0.59 | 0.23 | Low    |\n",
       "| 0.91 | 0.66 | High   |\n",
       "| 0.15 | 0.62 | Middle |\n",
       "| 0.27 | 0.30 | Low    |\n",
       "| 0.60 | 0.22 | Low    |\n",
       "| 0.40 | 0.83 | High   |\n",
       "| 0.13 | 0.64 | Middle |\n",
       "| 0.30 | 0.52 | Middle |\n",
       "| 0.62 | 0.20 | Low    |\n",
       "| 0.78 | 0.86 | High   |\n",
       "| 0.18 | 0.63 | Middle |\n",
       "| 0.27 | 0.25 | Low    |\n",
       "| 0.65 | 0.25 | Middle |\n",
       "| 0.89 | 0.88 | High   |\n",
       "| 0.10 | 0.66 | Middle |\n",
       "| 0.29 | 0.29 | Low    |\n",
       "| 0.65 | 0.90 | High   |\n",
       "| 0.79 | 0.45 | Middle |\n",
       "| 0.09 | 0.66 | Middle |\n",
       "| 0.31 | 0.50 | Middle |\n",
       "| 0.64 | 0.19 | Low    |\n",
       "| 0.92 | 0.58 | High   |\n",
       "| 0.19 | 0.60 | Middle |\n",
       "| 0.29 | 0.77 | High   |\n",
       "| 0.61 | 0.26 | Middle |\n",
       "| 0.87 | 0.74 | High   |\n",
       "\n"
      ],
      "text/plain": [
       "    LPR  PEG  UNS     \n",
       "1   0.00 0.00 very_low\n",
       "2   0.24 0.90 High    \n",
       "3   0.25 0.33 Low     \n",
       "4   0.65 0.30 Middle  \n",
       "5   0.98 0.24 Low     \n",
       "6   0.10 0.66 Middle  \n",
       "7   0.29 0.56 Middle  \n",
       "8   0.40 0.01 very_low\n",
       "9   0.72 0.25 Low     \n",
       "10  0.20 0.85 High    \n",
       "11  0.30 0.81 High    \n",
       "12  0.41 0.30 Low     \n",
       "13  0.78 0.34 Middle  \n",
       "14  0.15 0.90 High    \n",
       "15  0.30 0.60 Middle  \n",
       "16  0.35 0.80 High    \n",
       "17  0.01 0.05 very_low\n",
       "18  0.08 0.33 Low     \n",
       "19  0.27 0.29 Low     \n",
       "20  0.49 0.56 Middle  \n",
       "21  0.78 0.20 Low     \n",
       "22  0.12 0.66 Middle  \n",
       "23  0.29 0.65 Middle  \n",
       "24  0.42 0.28 Low     \n",
       "25  0.76 0.25 Low     \n",
       "26  0.18 0.85 High    \n",
       "27  0.25 0.10 very_low\n",
       "28  0.45 0.25 Low     \n",
       "29  0.94 0.56 High    \n",
       "30  0.21 0.81 High    \n",
       "⋮   ⋮    ⋮    ⋮       \n",
       "229 0.55 0.78 High    \n",
       "230 0.70 0.69 High    \n",
       "231 0.12 0.65 Middle  \n",
       "232 0.28 0.28 Low     \n",
       "233 0.59 0.23 Low     \n",
       "234 0.91 0.66 High    \n",
       "235 0.15 0.62 Middle  \n",
       "236 0.27 0.30 Low     \n",
       "237 0.60 0.22 Low     \n",
       "238 0.40 0.83 High    \n",
       "239 0.13 0.64 Middle  \n",
       "240 0.30 0.52 Middle  \n",
       "241 0.62 0.20 Low     \n",
       "242 0.78 0.86 High    \n",
       "243 0.18 0.63 Middle  \n",
       "244 0.27 0.25 Low     \n",
       "245 0.65 0.25 Middle  \n",
       "246 0.89 0.88 High    \n",
       "247 0.10 0.66 Middle  \n",
       "248 0.29 0.29 Low     \n",
       "249 0.65 0.90 High    \n",
       "250 0.79 0.45 Middle  \n",
       "251 0.09 0.66 Middle  \n",
       "252 0.31 0.50 Middle  \n",
       "253 0.64 0.19 Low     \n",
       "254 0.92 0.58 High    \n",
       "255 0.19 0.60 Middle  \n",
       "256 0.29 0.77 High    \n",
       "257 0.61 0.26 Middle  \n",
       "258 0.87 0.74 High    "
      ]
     },
     "metadata": {},
     "output_type": "display_data"
    }
   ],
   "source": [
    "download.file(\"https://archive.ics.uci.edu/ml/machine-learning-databases/00257/Data_User_Modeling_Dataset_Hamdi%20Tolga%20KAHRAMAN.xls\", \"user_modeling_data.xls\")\n",
    "dataset_training <- read_excel('user_modeling_data.xls', sheet = 2) %>%\n",
    "    select(LPR, PEG, UNS) %>%\n",
    "    mutate(UNS = as_factor(UNS))\n",
    "dataset_training"
   ]
  },
  {
   "cell_type": "markdown",
   "metadata": {},
   "source": [
    "<br>\n"
   ]
  },
  {
   "cell_type": "markdown",
   "metadata": {},
   "source": [
    "<i> By making a table, we can see the distribution of each status in the training data in regards to their counts and percentages. </i>"
   ]
  },
  {
   "cell_type": "code",
   "execution_count": 3,
   "metadata": {},
   "outputs": [
    {
     "name": "stderr",
     "output_type": "stream",
     "text": [
      "`summarise()` ungrouping output (override with `.groups` argument)\n",
      "\n"
     ]
    },
    {
     "data": {
      "text/html": [
       "<table>\n",
       "<caption>A tibble: 4 × 3</caption>\n",
       "<thead>\n",
       "\t<tr><th scope=col>UNS</th><th scope=col>count</th><th scope=col>percentage</th></tr>\n",
       "\t<tr><th scope=col>&lt;fct&gt;</th><th scope=col>&lt;int&gt;</th><th scope=col>&lt;dbl&gt;</th></tr>\n",
       "</thead>\n",
       "<tbody>\n",
       "\t<tr><td>very_low</td><td>24</td><td> 9.302326</td></tr>\n",
       "\t<tr><td>High    </td><td>63</td><td>24.418605</td></tr>\n",
       "\t<tr><td>Low     </td><td>83</td><td>32.170543</td></tr>\n",
       "\t<tr><td>Middle  </td><td>88</td><td>34.108527</td></tr>\n",
       "</tbody>\n",
       "</table>\n"
      ],
      "text/latex": [
       "A tibble: 4 × 3\n",
       "\\begin{tabular}{lll}\n",
       " UNS & count & percentage\\\\\n",
       " <fct> & <int> & <dbl>\\\\\n",
       "\\hline\n",
       "\t very\\_low & 24 &  9.302326\\\\\n",
       "\t High     & 63 & 24.418605\\\\\n",
       "\t Low      & 83 & 32.170543\\\\\n",
       "\t Middle   & 88 & 34.108527\\\\\n",
       "\\end{tabular}\n"
      ],
      "text/markdown": [
       "\n",
       "A tibble: 4 × 3\n",
       "\n",
       "| UNS &lt;fct&gt; | count &lt;int&gt; | percentage &lt;dbl&gt; |\n",
       "|---|---|---|\n",
       "| very_low | 24 |  9.302326 |\n",
       "| High     | 63 | 24.418605 |\n",
       "| Low      | 83 | 32.170543 |\n",
       "| Middle   | 88 | 34.108527 |\n",
       "\n"
      ],
      "text/plain": [
       "  UNS      count percentage\n",
       "1 very_low 24     9.302326 \n",
       "2 High     63    24.418605 \n",
       "3 Low      83    32.170543 \n",
       "4 Middle   88    34.108527 "
      ]
     },
     "metadata": {},
     "output_type": "display_data"
    }
   ],
   "source": [
    "num_UNS <- dataset_training%>%\n",
    "           group_by(UNS)%>%\n",
    "           summarize(count = n(),\n",
    "                    percentage = n() / nrow(dataset_training) *100)\n",
    "\n",
    "num_UNS"
   ]
  },
  {
   "cell_type": "markdown",
   "metadata": {},
   "source": [
    "<b> There is no missing data in the training data. </b>"
   ]
  },
  {
   "cell_type": "markdown",
   "metadata": {},
   "source": [
    "<br>"
   ]
  },
  {
   "cell_type": "markdown",
   "metadata": {},
   "source": [
    "<i> Through R, we also calculated the average LPR and PEG scores for the training data to be 0.43 and 0.46 respectively. </i>"
   ]
  },
  {
   "cell_type": "code",
   "execution_count": 4,
   "metadata": {},
   "outputs": [
    {
     "data": {
      "text/html": [
       "<table>\n",
       "<caption>A tibble: 1 × 2</caption>\n",
       "<thead>\n",
       "\t<tr><th scope=col>LPRavg</th><th scope=col>PEGavg</th></tr>\n",
       "\t<tr><th scope=col>&lt;dbl&gt;</th><th scope=col>&lt;dbl&gt;</th></tr>\n",
       "</thead>\n",
       "<tbody>\n",
       "\t<tr><td>0.4327132</td><td>0.4585388</td></tr>\n",
       "</tbody>\n",
       "</table>\n"
      ],
      "text/latex": [
       "A tibble: 1 × 2\n",
       "\\begin{tabular}{ll}\n",
       " LPRavg & PEGavg\\\\\n",
       " <dbl> & <dbl>\\\\\n",
       "\\hline\n",
       "\t 0.4327132 & 0.4585388\\\\\n",
       "\\end{tabular}\n"
      ],
      "text/markdown": [
       "\n",
       "A tibble: 1 × 2\n",
       "\n",
       "| LPRavg &lt;dbl&gt; | PEGavg &lt;dbl&gt; |\n",
       "|---|---|\n",
       "| 0.4327132 | 0.4585388 |\n",
       "\n"
      ],
      "text/plain": [
       "  LPRavg    PEGavg   \n",
       "1 0.4327132 0.4585388"
      ]
     },
     "metadata": {},
     "output_type": "display_data"
    }
   ],
   "source": [
    "LPRavg <- dataset_training %>%\n",
    "    summarize(LPRavg = mean(LPR)) \n",
    "\n",
    "PEGavg <- dataset_training %>%\n",
    "    summarize(PEGavg = mean(PEG)) \n",
    "\n",
    "\n",
    "bind_cols(LPRavg, PEGavg)"
   ]
  },
  {
   "cell_type": "markdown",
   "metadata": {},
   "source": [
    "<br>"
   ]
  },
  {
   "cell_type": "markdown",
   "metadata": {},
   "source": [
    "<i> Lastly, we explored the data using visualizations to represent and communicate numerics. We visualized the result through a scatter plot with the distribution of users’ exam performances, with PEG on the y-axis and LPR on the x-axis. We can then use colours to visualize and distinguish the knowledge level of each user. </i>"
   ]
  },
  {
   "cell_type": "code",
   "execution_count": 6,
   "metadata": {},
   "outputs": [
    {
     "data": {
      "image/png": "[encoded data removed]",
      "text/plain": [
       "plot without title"
      ]
     },
     "metadata": {
      "image/png": {
       "height": 480,
       "width": 720
      }
     },
     "output_type": "display_data"
    }
   ],
   "source": [
    "options(repr.plot.width = 12, repr.plot.height = 8)\n",
    "plot <- dataset_training%>%\n",
    "        ggplot(aes(x = LPR, y = PEG, color = UNS)) + \n",
    "        geom_point() + \n",
    "        labs(x = \"LPR (Exam performance of user for related objects with goal object)\", \n",
    "             y = \"PEG (Exam performance of user for goal objects)\", fill = \"UNS\") + theme(text = element_text(size = 15))\n",
    "plot"
   ]
  },
  {
   "cell_type": "markdown",
   "metadata": {},
   "source": [
    "<br>"
   ]
  },
  {
   "cell_type": "markdown",
   "metadata": {},
   "source": [
    "<b> We see that in general, users with high scores in PEG tend to have a higher UNS regardless of LPR value. <b>"
   ]
  },
  {
   "cell_type": "markdown",
   "metadata": {},
   "source": [
    "Overall, we expect there to be a positive correlation between high LPR and PEG values to higher categorical values of UNS such that the highest combined values should have a category of “high”. However, the initial data exploration suggested that only high PEG values contribute to a high UNS value, which leaves more up for interpretation. This would then suggest that a high level of exam performance correlates to a high knowledge level about Electrical DC Machines and propel further exploratory questions regarding if exam performance is an accurate indicator of knowledge regarding Electrical DC Machines. "
   ]
  }
 ],
 "metadata": {
  "kernelspec": {
   "display_name": "R",
   "language": "R",
   "name": "ir"
  },
  "language_info": {
   "codemirror_mode": "r",
   "file_extension": ".r",
   "mimetype": "text/x-r-source",
   "name": "R",
   "pygments_lexer": "r",
   "version": "4.0.0"
  }
 },
 "nbformat": 4,
 "nbformat_minor": 4
}
