{
 "cells": [
  {
   "cell_type": "markdown",
   "metadata": {},
   "source": [
    "<h1> Predicting User Knowledge Level Using KNN Classification</h1>\n",
    "<h2> DSCI 100: Group 38 Final Project </h2>"
   ]
  },
  {
   "cell_type": "markdown",
   "metadata": {},
   "source": [
    "<b>Introduction: </b>\n",
    "\n",
    "- <u>Background </u>: The dataset we are using is the “User Knowledge Modelling Dataset” from the UCI Machine Learning Repository. It was created and designed for a study in creating efficient user knowledge classfiers. Consisting information of 403 undergraduate students in the Department of Electrical Education of Gazi University in the 2009 semester, the dataset aims to classify students’ level of knowledge on the subject of Electrical DC Machines. \n",
    "\n",
    "- <u>Dataset description: </u>\n",
    "    - Dataset title:  <b> <a href=\"https://archive.ics.uci.edu/ml/datasets/User+Knowledge+Modeling\"> User Knowledge Modeling Data Set </a> </b>\n",
    "    - The dataset consists of 403 rows and 6 columns - 5 quantitative varaibles and 1 qualitative variable. It is split into training and testing sets, with 258 observations in training and 145 in testing. \n",
    "    - Dataset terminology:\n",
    "    \n",
    "        <b>STG</b> - The degree of study time for goal object materials (Quantitative)\n",
    "\n",
    "        <b>SCG</b> - The degree of repetition number of user for goal object materials (Quantitative)\n",
    "\n",
    "        <b>STR</b> - The degree of study time of user for related objects with goal object (Quantitative)\n",
    "\n",
    "        <b>LPR</b> - The exam performance of user for related objects with goal object (Quantitative)\n",
    "\n",
    "        <b>PEG</b> - The exam performance of user for goal objects (Quantitative)\n",
    "\n",
    "        <b>UNS</b> - The knowledge level of user (Qualitative)\n",
    "    \n",
    "- <u>Objectives</u>: From the raw dataset, the target value is UNS and is classified through input values: STG, SCG, STR, LPR, and PEG. Our objective is to determine the category of UNS assigned to the user based on PEG (we will discuss later why we only choose this variable as the predictor) with k-NN classification. The target value is the knowledge level of students/ ‘users’ about the subject of Electrical DC Machines in which its features is PEG and its categories are:\n",
    "    - Very low\n",
    "    - Low\n",
    "    - Middle\n",
    "    - High\n",
    "    \n",
    "    <br>"
   ]
  },
  {
   "cell_type": "markdown",
   "metadata": {},
   "source": [
    "<b> Methods & Results: "
   ]
  },
  {
   "cell_type": "markdown",
   "metadata": {},
   "source": [
    "- <u>Preliminary exploratory data analysis: </u>"
   ]
  },
  {
   "cell_type": "markdown",
   "metadata": {},
   "source": [
    "Firstly, we loaded in the packages that were needed, and set the seed so that everything is reproducible for the data analysis. </i>"
   ]
  },
  {
   "cell_type": "code",
   "execution_count": 14,
   "metadata": {},
   "outputs": [
    {
     "ename": "ERROR",
     "evalue": "Error in library(themis): there is no package called ‘themis’\n",
     "output_type": "error",
     "traceback": [
      "Error in library(themis): there is no package called ‘themis’\nTraceback:\n",
      "1. library(themis)"
     ]
    }
   ],
   "source": [
    "library(tidyverse)\n",
    "library(readxl)\n",
    "library(digest)\n",
    "library(dplyr)\n",
    "library(repr)\n",
    "library(tidymodels)\n",
    "library(GGally)\n",
    "library(themis)\n",
    "options(repr.matrix.max.rows = 6)\n",
    "\n",
    "set.seed(9999) #Randomly splits the data through randomness by producing a sequence of numbers that are determined by a seed value. Used to ensure that the results are reproducible by ensuring that the data is divided the same way every time the code is run and increases reproducibility."
   ]
  },
  {
   "cell_type": "markdown",
   "metadata": {},
   "source": [
    "<br>"
   ]
  },
  {
   "cell_type": "markdown",
   "metadata": {},
   "source": [
    "We loaded the data into R by downloading the file, where we then read the training dataset. Then we selected all the variable columns from the data and mutated UNS as a factor. <b>There was no need to wrangle the data into tidy format since it was already provided as such. </b> Each row is a single observation, each column is a single variable and each value is a single cell.\n",
    "    \n",
    "Now we need to choose the suitable predictor(s) for our prediction. We wanted to use the ggpairs function to find the correlations between all the variables and UNS, so that we can choose the ones with relatively strong correlations with UNS as predictor(s). But we noticed that UNS was not in the numeric form, so we assigned each UNS category a numeric value, from 1 to 4, representing the lowest level to the highest level. \n",
    "\n",
    "Notice below we used c(1,4,2,3) instead of normal ordering because the first four rows of the UNS column in the training dataset are \"very_low, high, low, middle\". They are not from the lowest level to the highest level as we wanted. If we use the normal ordering (1:4), then \"High\" level would be assigned the number 2, \"low\" level would be assigned the number 3, and \"middle\" level would be assigned the number 2. That is why we needed to assign the categories as 1, 4, 2, and 3."
   ]
  },
  {
   "cell_type": "code",
   "execution_count": 4,
   "metadata": {},
   "outputs": [
    {
     "name": "stderr",
     "output_type": "stream",
     "text": [
      "New names:\n",
      "* `` -> ...7\n",
      "* `` -> ...8\n",
      "\n"
     ]
    },
    {
     "data": {
      "text/html": [
       "<table>\n",
       "<caption>A tibble: 10 × 6</caption>\n",
       "<thead>\n",
       "\t<tr><th scope=col>STG</th><th scope=col>SCG</th><th scope=col>STR</th><th scope=col>LPR</th><th scope=col>PEG</th><th scope=col>UNS</th></tr>\n",
       "\t<tr><th scope=col>&lt;dbl&gt;</th><th scope=col>&lt;dbl&gt;</th><th scope=col>&lt;dbl&gt;</th><th scope=col>&lt;dbl&gt;</th><th scope=col>&lt;dbl&gt;</th><th scope=col>&lt;chr&gt;</th></tr>\n",
       "</thead>\n",
       "<tbody>\n",
       "\t<tr><td>0.00</td><td>0.00</td><td>0.00</td><td>0.00</td><td>0.00</td><td>very_low</td></tr>\n",
       "\t<tr><td>0.08</td><td>0.08</td><td>0.10</td><td>0.24</td><td>0.90</td><td>High    </td></tr>\n",
       "\t<tr><td>0.06</td><td>0.06</td><td>0.05</td><td>0.25</td><td>0.33</td><td>Low     </td></tr>\n",
       "\t<tr><td>⋮</td><td>⋮</td><td>⋮</td><td>⋮</td><td>⋮</td><td>⋮</td></tr>\n",
       "\t<tr><td>0.15</td><td>0.02</td><td>0.34</td><td>0.40</td><td>0.01</td><td>very_low</td></tr>\n",
       "\t<tr><td>0.20</td><td>0.14</td><td>0.35</td><td>0.72</td><td>0.25</td><td>Low     </td></tr>\n",
       "\t<tr><td>0.00</td><td>0.00</td><td>0.50</td><td>0.20</td><td>0.85</td><td>High    </td></tr>\n",
       "</tbody>\n",
       "</table>\n"
      ],
      "text/latex": [
       "A tibble: 10 × 6\n",
       "\\begin{tabular}{llllll}\n",
       " STG & SCG & STR & LPR & PEG & UNS\\\\\n",
       " <dbl> & <dbl> & <dbl> & <dbl> & <dbl> & <chr>\\\\\n",
       "\\hline\n",
       "\t 0.00 & 0.00 & 0.00 & 0.00 & 0.00 & very\\_low\\\\\n",
       "\t 0.08 & 0.08 & 0.10 & 0.24 & 0.90 & High    \\\\\n",
       "\t 0.06 & 0.06 & 0.05 & 0.25 & 0.33 & Low     \\\\\n",
       "\t ⋮ & ⋮ & ⋮ & ⋮ & ⋮ & ⋮\\\\\n",
       "\t 0.15 & 0.02 & 0.34 & 0.40 & 0.01 & very\\_low\\\\\n",
       "\t 0.20 & 0.14 & 0.35 & 0.72 & 0.25 & Low     \\\\\n",
       "\t 0.00 & 0.00 & 0.50 & 0.20 & 0.85 & High    \\\\\n",
       "\\end{tabular}\n"
      ],
      "text/markdown": [
       "\n",
       "A tibble: 10 × 6\n",
       "\n",
       "| STG &lt;dbl&gt; | SCG &lt;dbl&gt; | STR &lt;dbl&gt; | LPR &lt;dbl&gt; | PEG &lt;dbl&gt; | UNS &lt;chr&gt; |\n",
       "|---|---|---|---|---|---|\n",
       "| 0.00 | 0.00 | 0.00 | 0.00 | 0.00 | very_low |\n",
       "| 0.08 | 0.08 | 0.10 | 0.24 | 0.90 | High     |\n",
       "| 0.06 | 0.06 | 0.05 | 0.25 | 0.33 | Low      |\n",
       "| ⋮ | ⋮ | ⋮ | ⋮ | ⋮ | ⋮ |\n",
       "| 0.15 | 0.02 | 0.34 | 0.40 | 0.01 | very_low |\n",
       "| 0.20 | 0.14 | 0.35 | 0.72 | 0.25 | Low      |\n",
       "| 0.00 | 0.00 | 0.50 | 0.20 | 0.85 | High     |\n",
       "\n"
      ],
      "text/plain": [
       "   STG  SCG  STR  LPR  PEG  UNS     \n",
       "1  0.00 0.00 0.00 0.00 0.00 very_low\n",
       "2  0.08 0.08 0.10 0.24 0.90 High    \n",
       "3  0.06 0.06 0.05 0.25 0.33 Low     \n",
       "⋮  ⋮    ⋮    ⋮    ⋮    ⋮    ⋮       \n",
       "8  0.15 0.02 0.34 0.40 0.01 very_low\n",
       "9  0.20 0.14 0.35 0.72 0.25 Low     \n",
       "10 0.00 0.00 0.50 0.20 0.85 High    "
      ]
     },
     "metadata": {},
     "output_type": "display_data"
    },
    {
     "name": "stderr",
     "output_type": "stream",
     "text": [
      "New names:\n",
      "* `` -> ...7\n",
      "* `` -> ...8\n",
      "\n"
     ]
    },
    {
     "data": {
      "text/html": [
       "<table>\n",
       "<caption>A tibble: 10 × 6</caption>\n",
       "<thead>\n",
       "\t<tr><th scope=col>STG</th><th scope=col>SCG</th><th scope=col>STR</th><th scope=col>LPR</th><th scope=col>PEG</th><th scope=col>UNS</th></tr>\n",
       "\t<tr><th scope=col>&lt;dbl&gt;</th><th scope=col>&lt;dbl&gt;</th><th scope=col>&lt;dbl&gt;</th><th scope=col>&lt;dbl&gt;</th><th scope=col>&lt;dbl&gt;</th><th scope=col>&lt;dbl&gt;</th></tr>\n",
       "</thead>\n",
       "<tbody>\n",
       "\t<tr><td>0.00</td><td>0.00</td><td>0.00</td><td>0.00</td><td>0.00</td><td>1</td></tr>\n",
       "\t<tr><td>0.08</td><td>0.08</td><td>0.10</td><td>0.24</td><td>0.90</td><td>4</td></tr>\n",
       "\t<tr><td>0.06</td><td>0.06</td><td>0.05</td><td>0.25</td><td>0.33</td><td>2</td></tr>\n",
       "\t<tr><td>⋮</td><td>⋮</td><td>⋮</td><td>⋮</td><td>⋮</td><td>⋮</td></tr>\n",
       "\t<tr><td>0.15</td><td>0.02</td><td>0.34</td><td>0.40</td><td>0.01</td><td>1</td></tr>\n",
       "\t<tr><td>0.20</td><td>0.14</td><td>0.35</td><td>0.72</td><td>0.25</td><td>2</td></tr>\n",
       "\t<tr><td>0.00</td><td>0.00</td><td>0.50</td><td>0.20</td><td>0.85</td><td>4</td></tr>\n",
       "</tbody>\n",
       "</table>\n"
      ],
      "text/latex": [
       "A tibble: 10 × 6\n",
       "\\begin{tabular}{llllll}\n",
       " STG & SCG & STR & LPR & PEG & UNS\\\\\n",
       " <dbl> & <dbl> & <dbl> & <dbl> & <dbl> & <dbl>\\\\\n",
       "\\hline\n",
       "\t 0.00 & 0.00 & 0.00 & 0.00 & 0.00 & 1\\\\\n",
       "\t 0.08 & 0.08 & 0.10 & 0.24 & 0.90 & 4\\\\\n",
       "\t 0.06 & 0.06 & 0.05 & 0.25 & 0.33 & 2\\\\\n",
       "\t ⋮ & ⋮ & ⋮ & ⋮ & ⋮ & ⋮\\\\\n",
       "\t 0.15 & 0.02 & 0.34 & 0.40 & 0.01 & 1\\\\\n",
       "\t 0.20 & 0.14 & 0.35 & 0.72 & 0.25 & 2\\\\\n",
       "\t 0.00 & 0.00 & 0.50 & 0.20 & 0.85 & 4\\\\\n",
       "\\end{tabular}\n"
      ],
      "text/markdown": [
       "\n",
       "A tibble: 10 × 6\n",
       "\n",
       "| STG &lt;dbl&gt; | SCG &lt;dbl&gt; | STR &lt;dbl&gt; | LPR &lt;dbl&gt; | PEG &lt;dbl&gt; | UNS &lt;dbl&gt; |\n",
       "|---|---|---|---|---|---|\n",
       "| 0.00 | 0.00 | 0.00 | 0.00 | 0.00 | 1 |\n",
       "| 0.08 | 0.08 | 0.10 | 0.24 | 0.90 | 4 |\n",
       "| 0.06 | 0.06 | 0.05 | 0.25 | 0.33 | 2 |\n",
       "| ⋮ | ⋮ | ⋮ | ⋮ | ⋮ | ⋮ |\n",
       "| 0.15 | 0.02 | 0.34 | 0.40 | 0.01 | 1 |\n",
       "| 0.20 | 0.14 | 0.35 | 0.72 | 0.25 | 2 |\n",
       "| 0.00 | 0.00 | 0.50 | 0.20 | 0.85 | 4 |\n",
       "\n"
      ],
      "text/plain": [
       "   STG  SCG  STR  LPR  PEG  UNS\n",
       "1  0.00 0.00 0.00 0.00 0.00 1  \n",
       "2  0.08 0.08 0.10 0.24 0.90 4  \n",
       "3  0.06 0.06 0.05 0.25 0.33 2  \n",
       "⋮  ⋮    ⋮    ⋮    ⋮    ⋮    ⋮  \n",
       "8  0.15 0.02 0.34 0.40 0.01 1  \n",
       "9  0.20 0.14 0.35 0.72 0.25 2  \n",
       "10 0.00 0.00 0.50 0.20 0.85 4  "
      ]
     },
     "metadata": {},
     "output_type": "display_data"
    }
   ],
   "source": [
    "download.file(\"https://archive.ics.uci.edu/ml/machine-learning-databases/00257/Data_User_Modeling_Dataset_Hamdi%20Tolga%20KAHRAMAN.xls\", \n",
    "              \"user_modeling_data.xls\")        #loads data from the original source on the web \n",
    "\n",
    "original_training <- read_excel('user_modeling_data.xls', sheet = 2)%>%     #only read the second sheet from the file (the training data)\n",
    "                     select(STG : UNS)\n",
    "head(original_training,10)\n",
    "\n",
    "whole_training <- read_excel('user_modeling_data.xls', sheet = 2)%>%     #only read the second sheet from the file (the training data)\n",
    "                     select(STG : UNS)%>%              #select columns from STG to UNS\n",
    "                     mutate(UNS = c(1,4,2,3)[as_factor(UNS)])      #change the categorical data of the UNS column into numeric form in specific order\n",
    "head(whole_training,10)    # take a look at the first ten rows of the edited dataset"
   ]
  },
  {
   "cell_type": "markdown",
   "metadata": {},
   "source": [
    "Now we can see from the table above that all the four categories in the UNS column are assigned a number corresponding to the data point's knowledge level. So now we are able to use the ggpairs function to visualize the correlations between all variables with UNS."
   ]
  },
  {
   "cell_type": "code",
   "execution_count": 5,
   "metadata": {},
   "outputs": [
    {
     "data": {
      "image/png": "[encoded data removed]",
      "text/plain": [
       "plot without title"
      ]
     },
     "metadata": {
      "image/png": {
       "height": 420,
       "width": 420
      }
     },
     "output_type": "display_data"
    }
   ],
   "source": [
    "ggpairs(whole_training)"
   ]
  },
  {
   "cell_type": "markdown",
   "metadata": {},
   "source": [
    "<br>\n",
    "We can see from the above plot that only PEG has a relatively strong correlation with UNS, at a value of 0.911. This is actually a very strong positive correlation. So we chose PEG as the only predictor, as all the other predictors have a very low correlation value."
   ]
  },
  {
   "cell_type": "markdown",
   "metadata": {},
   "source": [
    "<br>"
   ]
  },
  {
   "cell_type": "markdown",
   "metadata": {},
   "source": [
    "Now we can just select the PEG and UNS columns for both training data and testing data from the original dataset. Since we have chosen the predictor, we no longer need to keep the UNS column in a numeric form. Notice that we renamed one of the values of the UNS column in the testing data to make all the categories have the same name. (The testing data represents the lowest level as \"Very Low\", but the training data uses \"very_low\" to represent the lowest level.) If we don't do this, the accuracy of our prediction would be severely affected."
   ]
  },
  {
   "cell_type": "code",
   "execution_count": 6,
   "metadata": {},
   "outputs": [
    {
     "name": "stderr",
     "output_type": "stream",
     "text": [
      "New names:\n",
      "* `` -> ...7\n",
      "* `` -> ...8\n",
      "\n"
     ]
    },
    {
     "data": {
      "text/html": [
       "<table>\n",
       "<caption>A tibble: 10 × 2</caption>\n",
       "<thead>\n",
       "\t<tr><th scope=col>PEG</th><th scope=col>UNS</th></tr>\n",
       "\t<tr><th scope=col>&lt;dbl&gt;</th><th scope=col>&lt;fct&gt;</th></tr>\n",
       "</thead>\n",
       "<tbody>\n",
       "\t<tr><td>0.00</td><td>very_low</td></tr>\n",
       "\t<tr><td>0.90</td><td>High    </td></tr>\n",
       "\t<tr><td>0.33</td><td>Low     </td></tr>\n",
       "\t<tr><td>⋮</td><td>⋮</td></tr>\n",
       "\t<tr><td>0.01</td><td>very_low</td></tr>\n",
       "\t<tr><td>0.25</td><td>Low     </td></tr>\n",
       "\t<tr><td>0.85</td><td>High    </td></tr>\n",
       "</tbody>\n",
       "</table>\n"
      ],
      "text/latex": [
       "A tibble: 10 × 2\n",
       "\\begin{tabular}{ll}\n",
       " PEG & UNS\\\\\n",
       " <dbl> & <fct>\\\\\n",
       "\\hline\n",
       "\t 0.00 & very\\_low\\\\\n",
       "\t 0.90 & High    \\\\\n",
       "\t 0.33 & Low     \\\\\n",
       "\t ⋮ & ⋮\\\\\n",
       "\t 0.01 & very\\_low\\\\\n",
       "\t 0.25 & Low     \\\\\n",
       "\t 0.85 & High    \\\\\n",
       "\\end{tabular}\n"
      ],
      "text/markdown": [
       "\n",
       "A tibble: 10 × 2\n",
       "\n",
       "| PEG &lt;dbl&gt; | UNS &lt;fct&gt; |\n",
       "|---|---|\n",
       "| 0.00 | very_low |\n",
       "| 0.90 | High     |\n",
       "| 0.33 | Low      |\n",
       "| ⋮ | ⋮ |\n",
       "| 0.01 | very_low |\n",
       "| 0.25 | Low      |\n",
       "| 0.85 | High     |\n",
       "\n"
      ],
      "text/plain": [
       "   PEG  UNS     \n",
       "1  0.00 very_low\n",
       "2  0.90 High    \n",
       "3  0.33 Low     \n",
       "⋮  ⋮    ⋮       \n",
       "8  0.01 very_low\n",
       "9  0.25 Low     \n",
       "10 0.85 High    "
      ]
     },
     "metadata": {},
     "output_type": "display_data"
    },
    {
     "name": "stderr",
     "output_type": "stream",
     "text": [
      "New names:\n",
      "* `` -> ...7\n",
      "* `` -> ...8\n",
      "\n"
     ]
    },
    {
     "data": {
      "text/html": [
       "<table>\n",
       "<caption>A tibble: 10 × 2</caption>\n",
       "<thead>\n",
       "\t<tr><th scope=col>PEG</th><th scope=col>UNS</th></tr>\n",
       "\t<tr><th scope=col>&lt;dbl&gt;</th><th scope=col>&lt;fct&gt;</th></tr>\n",
       "</thead>\n",
       "<tbody>\n",
       "\t<tr><td>0.05</td><td>very_low</td></tr>\n",
       "\t<tr><td>0.14</td><td>Low     </td></tr>\n",
       "\t<tr><td>0.85</td><td>High    </td></tr>\n",
       "\t<tr><td>⋮</td><td>⋮</td></tr>\n",
       "\t<tr><td>0.15</td><td>Low     </td></tr>\n",
       "\t<tr><td>0.80</td><td>High    </td></tr>\n",
       "\t<tr><td>0.07</td><td>very_low</td></tr>\n",
       "</tbody>\n",
       "</table>\n"
      ],
      "text/latex": [
       "A tibble: 10 × 2\n",
       "\\begin{tabular}{ll}\n",
       " PEG & UNS\\\\\n",
       " <dbl> & <fct>\\\\\n",
       "\\hline\n",
       "\t 0.05 & very\\_low\\\\\n",
       "\t 0.14 & Low     \\\\\n",
       "\t 0.85 & High    \\\\\n",
       "\t ⋮ & ⋮\\\\\n",
       "\t 0.15 & Low     \\\\\n",
       "\t 0.80 & High    \\\\\n",
       "\t 0.07 & very\\_low\\\\\n",
       "\\end{tabular}\n"
      ],
      "text/markdown": [
       "\n",
       "A tibble: 10 × 2\n",
       "\n",
       "| PEG &lt;dbl&gt; | UNS &lt;fct&gt; |\n",
       "|---|---|\n",
       "| 0.05 | very_low |\n",
       "| 0.14 | Low      |\n",
       "| 0.85 | High     |\n",
       "| ⋮ | ⋮ |\n",
       "| 0.15 | Low      |\n",
       "| 0.80 | High     |\n",
       "| 0.07 | very_low |\n",
       "\n"
      ],
      "text/plain": [
       "   PEG  UNS     \n",
       "1  0.05 very_low\n",
       "2  0.14 Low     \n",
       "3  0.85 High    \n",
       "⋮  ⋮    ⋮       \n",
       "8  0.15 Low     \n",
       "9  0.80 High    \n",
       "10 0.07 very_low"
      ]
     },
     "metadata": {},
     "output_type": "display_data"
    }
   ],
   "source": [
    "# create the training data\n",
    "dataset_training <- read_excel('user_modeling_data.xls', sheet = 2)%>%     #only read the second sheet from the file (which consists of the training data)\n",
    "                     select(PEG,UNS)%>%              #select only predictor and target variable columns\n",
    "                     mutate(UNS = as_factor(UNS))   # change the UNS column into factor form\n",
    "head(dataset_training,10)       # take a look at the first 10 rows of the training data\n",
    "\n",
    "# create the testing data\n",
    "dataset_testing <- read_excel('user_modeling_data.xls', sheet = 3)%>%     #only read the third sheet from the file (which consists of the testing data)\n",
    "                     select(PEG,UNS)%>%             #select only predictor and target variable columns\n",
    "                     mutate(UNS = ifelse(UNS == \"Very Low\", \"very_low\", UNS))%>%   # make all the values in UNS column same for training and testing data\n",
    "                     mutate(UNS = as_factor(UNS))         # change the UNS column into factor form\n",
    "head(dataset_testing,10)    # take a look at the first 10 rows of the testing data"
   ]
  },
  {
   "cell_type": "markdown",
   "metadata": {},
   "source": [
    "Here we reordered the categories of the UNS column for the testing data to match the training data."
   ]
  },
  {
   "cell_type": "code",
   "execution_count": 7,
   "metadata": {},
   "outputs": [],
   "source": [
    "#makes the factor levels of the training and testing data the same, originally was different\n",
    "dataset_training$UNS <- ordered(dataset_training$UNS, levels = c(\"very_low\",\"Low\", \"Middle\", \"High\")) \n",
    "dataset_testing$UNS <- ordered(dataset_testing$UNS, levels = c(\"very_low\",\"Low\", \"Middle\", \"High\")) "
   ]
  },
  {
   "cell_type": "markdown",
   "metadata": {},
   "source": [
    "<br>"
   ]
  },
  {
   "cell_type": "markdown",
   "metadata": {},
   "source": [
    "By making a table, we can see the distribution of each status in the training data in regards to their counts and percentages. </i>"
   ]
  },
  {
   "cell_type": "code",
   "execution_count": 8,
   "metadata": {},
   "outputs": [
    {
     "name": "stderr",
     "output_type": "stream",
     "text": [
      "`summarise()` ungrouping output (override with `.groups` argument)\n",
      "\n"
     ]
    },
    {
     "data": {
      "text/html": [
       "<table>\n",
       "<caption>A tibble: 4 × 3</caption>\n",
       "<thead>\n",
       "\t<tr><th scope=col>UNS</th><th scope=col>count</th><th scope=col>percentage</th></tr>\n",
       "\t<tr><th scope=col>&lt;ord&gt;</th><th scope=col>&lt;int&gt;</th><th scope=col>&lt;dbl&gt;</th></tr>\n",
       "</thead>\n",
       "<tbody>\n",
       "\t<tr><td>very_low</td><td>24</td><td> 9.302326</td></tr>\n",
       "\t<tr><td>Low     </td><td>83</td><td>32.170543</td></tr>\n",
       "\t<tr><td>Middle  </td><td>88</td><td>34.108527</td></tr>\n",
       "\t<tr><td>High    </td><td>63</td><td>24.418605</td></tr>\n",
       "</tbody>\n",
       "</table>\n"
      ],
      "text/latex": [
       "A tibble: 4 × 3\n",
       "\\begin{tabular}{lll}\n",
       " UNS & count & percentage\\\\\n",
       " <ord> & <int> & <dbl>\\\\\n",
       "\\hline\n",
       "\t very\\_low & 24 &  9.302326\\\\\n",
       "\t Low      & 83 & 32.170543\\\\\n",
       "\t Middle   & 88 & 34.108527\\\\\n",
       "\t High     & 63 & 24.418605\\\\\n",
       "\\end{tabular}\n"
      ],
      "text/markdown": [
       "\n",
       "A tibble: 4 × 3\n",
       "\n",
       "| UNS &lt;ord&gt; | count &lt;int&gt; | percentage &lt;dbl&gt; |\n",
       "|---|---|---|\n",
       "| very_low | 24 |  9.302326 |\n",
       "| Low      | 83 | 32.170543 |\n",
       "| Middle   | 88 | 34.108527 |\n",
       "| High     | 63 | 24.418605 |\n",
       "\n"
      ],
      "text/plain": [
       "  UNS      count percentage\n",
       "1 very_low 24     9.302326 \n",
       "2 Low      83    32.170543 \n",
       "3 Middle   88    34.108527 \n",
       "4 High     63    24.418605 "
      ]
     },
     "metadata": {},
     "output_type": "display_data"
    }
   ],
   "source": [
    "num_UNS <- dataset_training %>%\n",
    "           group_by(UNS) %>%        # group by the UNS column\n",
    "           summarise(count = n(),             #calculate the number of observations for each status of UNS, dplyr since R was confused on which library to use\n",
    "                     percentage = n() / nrow(dataset_training) *100)    #calculates the percentage of each UNS category\n",
    "num_UNS"
   ]
  },
  {
   "cell_type": "markdown",
   "metadata": {},
   "source": [
    "We concluded there is no missing data in the training data. </b>"
   ]
  },
  {
   "cell_type": "code",
   "execution_count": 9,
   "metadata": {},
   "outputs": [
    {
     "data": {
      "text/html": [
       "0"
      ],
      "text/latex": [
       "0"
      ],
      "text/markdown": [
       "0"
      ],
      "text/plain": [
       "[1] 0"
      ]
     },
     "metadata": {},
     "output_type": "display_data"
    },
    {
     "data": {
      "text/html": [
       "0"
      ],
      "text/latex": [
       "0"
      ],
      "text/markdown": [
       "0"
      ],
      "text/plain": [
       "[1] 0"
      ]
     },
     "metadata": {},
     "output_type": "display_data"
    }
   ],
   "source": [
    "nrow(dataset_training%>%filter(is.na(UNS)))   # find the number of rows with missing data in UNS column\n",
    "nrow(dataset_training%>%filter(is.na(PEG)))   # find the number of rows with missing data in PEG column"
   ]
  },
  {
   "cell_type": "markdown",
   "metadata": {},
   "source": [
    "Through R, we also calculated the average PEG score for the training data to be 0.46"
   ]
  },
  {
   "cell_type": "code",
   "execution_count": 10,
   "metadata": {},
   "outputs": [
    {
     "data": {
      "text/html": [
       "<table>\n",
       "<caption>A tibble: 1 × 1</caption>\n",
       "<thead>\n",
       "\t<tr><th scope=col>PEGavg</th></tr>\n",
       "\t<tr><th scope=col>&lt;dbl&gt;</th></tr>\n",
       "</thead>\n",
       "<tbody>\n",
       "\t<tr><td>0.4585388</td></tr>\n",
       "</tbody>\n",
       "</table>\n"
      ],
      "text/latex": [
       "A tibble: 1 × 1\n",
       "\\begin{tabular}{l}\n",
       " PEGavg\\\\\n",
       " <dbl>\\\\\n",
       "\\hline\n",
       "\t 0.4585388\\\\\n",
       "\\end{tabular}\n"
      ],
      "text/markdown": [
       "\n",
       "A tibble: 1 × 1\n",
       "\n",
       "| PEGavg &lt;dbl&gt; |\n",
       "|---|\n",
       "| 0.4585388 |\n",
       "\n"
      ],
      "text/plain": [
       "  PEGavg   \n",
       "1 0.4585388"
      ]
     },
     "metadata": {},
     "output_type": "display_data"
    }
   ],
   "source": [
    "PEGavg <- dataset_training %>%\n",
    "          summarize(PEGavg = mean(PEG))   #calculate the mean PEG score in the training set\n",
    "PEGavg"
   ]
  },
  {
   "cell_type": "markdown",
   "metadata": {},
   "source": [
    "<br>"
   ]
  },
  {
   "cell_type": "markdown",
   "metadata": {},
   "source": [
    "- <u>Visualization relevant for exploratory data analysis related to the planned analysis:</u>"
   ]
  },
  {
   "cell_type": "markdown",
   "metadata": {},
   "source": [
    "Lastly, We drew a bar plot to visualize the distribution of PEG (the exam performance of user for goal objects) over UNS (the knowledge level of user)."
   ]
  },
  {
   "cell_type": "code",
   "execution_count": 11,
   "metadata": {},
   "outputs": [
    {
     "data": {
      "image/png": "[encoded data removed]",
      "text/plain": [
       "plot without title"
      ]
     },
     "metadata": {
      "image/png": {
       "height": 420,
       "width": 420
      }
     },
     "output_type": "display_data"
    }
   ],
   "source": [
    "plot <- dataset_training %>%\n",
    "         ggplot(aes(x = UNS, y = PEG)) + geom_bar(stat = \"identity\") + \n",
    "         labs(x = \"UNS (The knowledge level of user)\" , \n",
    "              y = \"PEG (Exam performance of user for goal objects)\") + \n",
    "         theme(text = element_text(size = 15))+\n",
    "         ggtitle(\"Distribution of PEG over UNS\")\n",
    "plot"
   ]
  },
  {
   "cell_type": "markdown",
   "metadata": {},
   "source": [
    "We can see from the plot that there are more users with increasing knowledge level of users. Most of the users have a middle to high level of knowledge, and the number of users with very low knowledge level is quite small. In other words, the distribution of each level is uneven. So we are planning to balance these four classes before doing the predictions."
   ]
  },
  {
   "cell_type": "markdown",
   "metadata": {},
   "source": [
    "<br>"
   ]
  },
  {
   "cell_type": "markdown",
   "metadata": {},
   "source": [
    "- <u>Data analysis: </u>"
   ]
  },
  {
   "cell_type": "markdown",
   "metadata": {},
   "source": [
    "We used cross validation to find the k value which gives us the highest accuracy. We can see from both the line plot and the first row of the table that K should be 14, since it gives us the highest accuracy at 84.07%."
   ]
  },
  {
   "cell_type": "code",
   "execution_count": 12,
   "metadata": {},
   "outputs": [
    {
     "data": {
      "text/html": [
       "<table>\n",
       "<caption>A tibble: 20 × 7</caption>\n",
       "<thead>\n",
       "\t<tr><th scope=col>neighbors</th><th scope=col>.metric</th><th scope=col>.estimator</th><th scope=col>mean</th><th scope=col>n</th><th scope=col>std_err</th><th scope=col>.config</th></tr>\n",
       "\t<tr><th scope=col>&lt;int&gt;</th><th scope=col>&lt;chr&gt;</th><th scope=col>&lt;chr&gt;</th><th scope=col>&lt;dbl&gt;</th><th scope=col>&lt;int&gt;</th><th scope=col>&lt;dbl&gt;</th><th scope=col>&lt;chr&gt;</th></tr>\n",
       "</thead>\n",
       "<tbody>\n",
       "\t<tr><td>10</td><td>accuracy</td><td>multiclass</td><td>0.840514</td><td>5</td><td>0.03641189</td><td>Model10</td></tr>\n",
       "\t<tr><td>11</td><td>accuracy</td><td>multiclass</td><td>0.840514</td><td>5</td><td>0.03641189</td><td>Model11</td></tr>\n",
       "\t<tr><td>15</td><td>accuracy</td><td>multiclass</td><td>0.840514</td><td>5</td><td>0.03641189</td><td>Model15</td></tr>\n",
       "\t<tr><td>⋮</td><td>⋮</td><td>⋮</td><td>⋮</td><td>⋮</td><td>⋮</td><td>⋮</td></tr>\n",
       "\t<tr><td>3</td><td>accuracy</td><td>multiclass</td><td>0.7982067</td><td>5</td><td>0.01076237</td><td>Model03</td></tr>\n",
       "\t<tr><td>2</td><td>accuracy</td><td>multiclass</td><td>0.7981224</td><td>5</td><td>0.01697596</td><td>Model02</td></tr>\n",
       "\t<tr><td>1</td><td>accuracy</td><td>multiclass</td><td>0.7510662</td><td>5</td><td>0.02717302</td><td>Model01</td></tr>\n",
       "</tbody>\n",
       "</table>\n"
      ],
      "text/latex": [
       "A tibble: 20 × 7\n",
       "\\begin{tabular}{lllllll}\n",
       " neighbors & .metric & .estimator & mean & n & std\\_err & .config\\\\\n",
       " <int> & <chr> & <chr> & <dbl> & <int> & <dbl> & <chr>\\\\\n",
       "\\hline\n",
       "\t 10 & accuracy & multiclass & 0.840514 & 5 & 0.03641189 & Model10\\\\\n",
       "\t 11 & accuracy & multiclass & 0.840514 & 5 & 0.03641189 & Model11\\\\\n",
       "\t 15 & accuracy & multiclass & 0.840514 & 5 & 0.03641189 & Model15\\\\\n",
       "\t ⋮ & ⋮ & ⋮ & ⋮ & ⋮ & ⋮ & ⋮\\\\\n",
       "\t 3 & accuracy & multiclass & 0.7982067 & 5 & 0.01076237 & Model03\\\\\n",
       "\t 2 & accuracy & multiclass & 0.7981224 & 5 & 0.01697596 & Model02\\\\\n",
       "\t 1 & accuracy & multiclass & 0.7510662 & 5 & 0.02717302 & Model01\\\\\n",
       "\\end{tabular}\n"
      ],
      "text/markdown": [
       "\n",
       "A tibble: 20 × 7\n",
       "\n",
       "| neighbors &lt;int&gt; | .metric &lt;chr&gt; | .estimator &lt;chr&gt; | mean &lt;dbl&gt; | n &lt;int&gt; | std_err &lt;dbl&gt; | .config &lt;chr&gt; |\n",
       "|---|---|---|---|---|---|---|\n",
       "| 10 | accuracy | multiclass | 0.840514 | 5 | 0.03641189 | Model10 |\n",
       "| 11 | accuracy | multiclass | 0.840514 | 5 | 0.03641189 | Model11 |\n",
       "| 15 | accuracy | multiclass | 0.840514 | 5 | 0.03641189 | Model15 |\n",
       "| ⋮ | ⋮ | ⋮ | ⋮ | ⋮ | ⋮ | ⋮ |\n",
       "| 3 | accuracy | multiclass | 0.7982067 | 5 | 0.01076237 | Model03 |\n",
       "| 2 | accuracy | multiclass | 0.7981224 | 5 | 0.01697596 | Model02 |\n",
       "| 1 | accuracy | multiclass | 0.7510662 | 5 | 0.02717302 | Model01 |\n",
       "\n"
      ],
      "text/plain": [
       "   neighbors .metric  .estimator mean      n std_err    .config\n",
       "1  10        accuracy multiclass 0.840514  5 0.03641189 Model10\n",
       "2  11        accuracy multiclass 0.840514  5 0.03641189 Model11\n",
       "3  15        accuracy multiclass 0.840514  5 0.03641189 Model15\n",
       "⋮  ⋮         ⋮        ⋮          ⋮         ⋮ ⋮          ⋮      \n",
       "18 3         accuracy multiclass 0.7982067 5 0.01076237 Model03\n",
       "19 2         accuracy multiclass 0.7981224 5 0.01697596 Model02\n",
       "20 1         accuracy multiclass 0.7510662 5 0.02717302 Model01"
      ]
     },
     "metadata": {},
     "output_type": "display_data"
    },
    {
     "data": {
      "image/png": "[encoded data removed]",
      "text/plain": [
       "plot without title"
      ]
     },
     "metadata": {
      "image/png": {
       "height": 420,
       "width": 420
      }
     },
     "output_type": "display_data"
    }
   ],
   "source": [
    "# Find the k value that results in the model having the highest accuracy using cross validation\n",
    "\n",
    "set.seed(9999)\n",
    "vfold <- vfold_cv(dataset_training, v = 5, strata = UNS)   # seperate the data into five random groups\n",
    "\n",
    "recipe <- recipe(UNS ~ PEG, data = dataset_training) %>%   # selected our target variable to be UNS and predictor variable to be PEG\n",
    "                step_scale(all_predictors()) %>%  \n",
    "                step_center(all_predictors()) # scaling and centering the predictor variable so that each variable is worth the same\n",
    "\n",
    "knn_spec <- nearest_neighbor(weight_func = \"rectangular\", neighbors = tune()) %>%  #tuning the K value\n",
    "             set_engine(\"kknn\") %>%      #tells R that we're using the K-nearest neighbors algorithm for our model\n",
    "             set_mode(\"classification\")  #tells R that we're using classification for our model    \n",
    "\n",
    "wkflw <- workflow() %>%                              #creates a workflow\n",
    "             add_recipe(recipe) %>%                  #adds the recipe into the workflow\n",
    "             add_model(knn_spec)                     #adds the model into the workflow\n",
    "\n",
    "gridvals <- tibble(neighbors = seq(from = 1, to = 20))   #creates the list of k values we are going to test\n",
    "\n",
    "results <- wkflw  %>%\n",
    "           tune_grid(resamples = vfold, grid = gridvals)  %>%\n",
    "           collect_metrics() %>%          \n",
    "           filter(.metric == \"accuracy\")%>%    #filters out only the rows with the accuracy metric               \n",
    "           arrange(desc(mean))                 #arranges the rows in descending order of accuracy\n",
    "results\n",
    "\n",
    "accuracy_vs_k <- ggplot(results, aes(x = neighbors, y = mean)) +     #graphs a K vs accuracy scatterplot (to represent which K value maximizes the model's accuracy)\n",
    "                 geom_point() + geom_line() +                        #specifies that each point in the graph will have a dot and lines that connects each dot together\n",
    "                 labs(x = \"Neighbors\", y = \"Accuracy Estimate\") +    #gives the x and y axis titles\n",
    "                 scale_x_continuous(breaks = seq(0, 20, by = 1)) +   #makes it easier to match each point in the graph with its k value\n",
    "                 ggtitle(\"K Neighbours vs Accuracy\")                 #gives the graph a title\n",
    "\n",
    "accuracy_vs_k\n",
    "\n",
    "kmin <- results %>%           #find the k value with highest accuracy\n",
    "        slice(1) %>%          #slices the first row of the dataframe to get the row with the highest accuracy (since the dataframe was arranged by accuracy in descending order)\n",
    "        pull(neighbors)       #pulls the number of neighbors in the neighbors column"
   ]
  },
  {
   "cell_type": "markdown",
   "metadata": {},
   "source": [
    "Now that we have calculated the most suitable K value for the model, we just plugged it in and ran the classifier."
   ]
  },
  {
   "cell_type": "code",
   "execution_count": 19,
   "metadata": {},
   "outputs": [
    {
     "name": "stderr",
     "output_type": "stream",
     "text": [
      "`summarise()` ungrouping output (override with `.groups` argument)\n",
      "\n"
     ]
    },
    {
     "data": {
      "text/html": [
       "<table>\n",
       "<caption>A tibble: 4 × 2</caption>\n",
       "<thead>\n",
       "\t<tr><th scope=col>UNS</th><th scope=col>n</th></tr>\n",
       "\t<tr><th scope=col>&lt;ord&gt;</th><th scope=col>&lt;int&gt;</th></tr>\n",
       "</thead>\n",
       "<tbody>\n",
       "\t<tr><td>very_low</td><td>88</td></tr>\n",
       "\t<tr><td>Low     </td><td>88</td></tr>\n",
       "\t<tr><td>Middle  </td><td>88</td></tr>\n",
       "\t<tr><td>High    </td><td>88</td></tr>\n",
       "</tbody>\n",
       "</table>\n"
      ],
      "text/latex": [
       "A tibble: 4 × 2\n",
       "\\begin{tabular}{ll}\n",
       " UNS & n\\\\\n",
       " <ord> & <int>\\\\\n",
       "\\hline\n",
       "\t very\\_low & 88\\\\\n",
       "\t Low      & 88\\\\\n",
       "\t Middle   & 88\\\\\n",
       "\t High     & 88\\\\\n",
       "\\end{tabular}\n"
      ],
      "text/markdown": [
       "\n",
       "A tibble: 4 × 2\n",
       "\n",
       "| UNS &lt;ord&gt; | n &lt;int&gt; |\n",
       "|---|---|\n",
       "| very_low | 88 |\n",
       "| Low      | 88 |\n",
       "| Middle   | 88 |\n",
       "| High     | 88 |\n",
       "\n"
      ],
      "text/plain": [
       "  UNS      n \n",
       "1 very_low 88\n",
       "2 Low      88\n",
       "3 Middle   88\n",
       "4 High     88"
      ]
     },
     "metadata": {},
     "output_type": "display_data"
    },
    {
     "ename": "ERROR",
     "evalue": "Error in split.default(x = seq_len(nrow(x)), f = f, drop = drop, ...): group length is 0 but data length > 0\n",
     "output_type": "error",
     "traceback": [
      "Error in split.default(x = seq_len(nrow(x)), f = f, drop = drop, ...): group length is 0 but data length > 0\nTraceback:\n",
      "1. knn_fit %>% predict(dataset_testing) %>% bind_cols(dataset_testing)",
      "2. withVisible(eval(quote(`_fseq`(`_lhs`)), env, env))",
      "3. eval(quote(`_fseq`(`_lhs`)), env, env)",
      "4. eval(quote(`_fseq`(`_lhs`)), env, env)",
      "5. `_fseq`(`_lhs`)",
      "6. freduce(value, `_function_list`)",
      "7. function_list[[i]](value)",
      "8. predict(., dataset_testing)",
      "9. predict.workflow(., dataset_testing)",
      "10. hardhat::forge(new_data, blueprint)",
      "11. forge.data.frame(new_data, blueprint)",
      "12. blueprint$forge$process(blueprint = blueprint, predictors = predictors, \n  .     outcomes = outcomes, extras = extras)",
      "13. recipes::bake(object = rec, new_data = new_data)",
      "14. bake.recipe(object = rec, new_data = new_data)",
      "15. bake(object$steps[[i]], new_data = new_data)",
      "16. bake.step_upsample(object$steps[[i]], new_data = new_data)",
      "17. split(new_data, new_data[[object$column]])",
      "18. split.data.frame(new_data, new_data[[object$column]])",
      "19. lapply(split(x = seq_len(nrow(x)), f = f, drop = drop, ...), \n  .     function(ind) x[ind, , drop = FALSE])",
      "20. split(x = seq_len(nrow(x)), f = f, drop = drop, ...)",
      "21. split.default(x = seq_len(nrow(x)), f = f, drop = drop, ...)"
     ]
    }
   ],
   "source": [
    "set.seed(9999)\n",
    "\n",
    "ups_recipe <- recipe(UNS ~ PEG, data = dataset_training) %>% \n",
    "              step_upsample(UNS, over_ratio = 1, skip = FALSE) %>%     #create a recipe that balance the training data so that number of points for each level are the same \n",
    "              prep()\n",
    "dataset_training_2 <- bake(ups_recipe, dataset_training)   # apply the recipe onto the training data\n",
    "\n",
    "dataset_training_2 %>%\n",
    "  group_by(UNS) %>%\n",
    "  summarize(n = n())     # here we can see the number of data points for each level are the same\n",
    "\n",
    "\n",
    "knn_spec_2 <- nearest_neighbor(weight_func = \"rectangular\", neighbors = kmin) %>%      # plug in the best k value that we found above\n",
    "              set_engine(\"kknn\") %>%      \n",
    "              set_mode(\"classification\")\n",
    "\n",
    "knn_fit <- workflow() %>%      \n",
    "           add_recipe(ups_recipe) %>%             #adds the same recipe above\n",
    "           add_model(knn_spec_2) %>%          #adds the new model with the best k-value that we found above\n",
    "           fit(data = dataset_training_2)       #fit the training data\n",
    "\n",
    "predictions <- knn_fit %>%                   #fits the workflow\n",
    "               predict(dataset_testing) %>%  #predicts the UNS value  for each observation in the testing data\n",
    "               bind_cols(dataset_testing)    #puts the column with all the predictions into the testing dataframe\n",
    "predictions\n",
    "\n",
    "\n",
    "summary <- predictions %>%\n",
    "            metrics(truth = \"UNS\", estimate = \".pred_class\") %>%  #determines the accuracy (and other metrics) based on each testing set observation's predicted UNS value and actual UNS value\n",
    "           filter(.metric == \"accuracy\")%>%                       #filters out all the rows with the accuracy metric since that is the only thing we need\n",
    "           select(.estimate)                                      #selects the accuracy value\n",
    "summary"
   ]
  },
  {
   "cell_type": "code",
   "execution_count": 17,
   "metadata": {},
   "outputs": [
    {
     "ename": "ERROR",
     "evalue": "Error in eval(lhs, parent, parent): object 'predictions' not found\n",
     "output_type": "error",
     "traceback": [
      "Error in eval(lhs, parent, parent): object 'predictions' not found\nTraceback:\n",
      "1. predictions %>% conf_mat(truth = UNS, estimate = .pred_class)",
      "2. eval(lhs, parent, parent)",
      "3. eval(lhs, parent, parent)"
     ]
    }
   ],
   "source": [
    "conf_mat <- predictions %>%          \n",
    "            conf_mat(truth = UNS, estimate = .pred_class) #creates a confusion matrix so that we can see how many predictions for each category the model predicted correctly\n",
    "conf_mat"
   ]
  },
  {
   "cell_type": "markdown",
   "metadata": {},
   "source": [
    "<br>"
   ]
  },
  {
   "cell_type": "markdown",
   "metadata": {},
   "source": [
    "- <u>Visualization of the analysis: </u>"
   ]
  },
  {
   "cell_type": "code",
   "execution_count": null,
   "metadata": {},
   "outputs": [],
   "source": [
    "a <- select(predictions, .pred_class) %>% unlist\n",
    "b <- select(predictions, UNS) %>% unlist\n",
    "results <- bind_cols(.pred_class = a, UNS = b)\n",
    "\n",
    "correct_predictions <- results %>%             #calculates number of correct predictions (when prediction and truth matches each other)\n",
    "    filter(.pred_class == UNS) %>%\n",
    "    group_by(UNS) %>%\n",
    "    summarise(correct_predictions = n()) %>%\n",
    "    select(-UNS)\n",
    "\n",
    "total_predictions <- results %>%              #calculates total number of predictions \n",
    "    group_by(UNS) %>%\n",
    "    summarise(total_predictions = n())\n",
    "\n",
    "incorrect_predictions <- results %>%          #calculates number of incorrect predictions (when prediction and truth doesn't match each other)\n",
    "    filter(.pred_class != UNS) %>%\n",
    "    group_by(UNS) %>%\n",
    "    summarise(incorrect_predictions = n()) %>%\n",
    "    select(-UNS)\n",
    "\n",
    "prediction_stats <- bind_cols(correct_predictions, incorrect_predictions, total_predictions) %>% #binds all the dataframe columns together into one single dataframe\n",
    "    select(UNS, correct_predictions, incorrect_predictions, total_predictions) #makes all the columns \"in order\" (for ease of readability)\n",
    "prediction_stats\n",
    "\n",
    "prediction_stats1 <- prediction_stats %>% \n",
    "  select(-total_predictions) %>%\n",
    "  gather(key = predict_result, value = total_predictions, correct_predictions, incorrect_predictions) #so that fill portion of bargraph can distinguish between correct and incorrect \n",
    "\n",
    "options(repr.plot.width = 10, repr.plot.height = 10) # increases size of graph for ease of readability\n",
    "\n",
    "results_graph <- ggplot(prediction_stats1, aes(x = UNS, y = total_predictions, fill = predict_result)) +\n",
    "    geom_bar(stat = \"identity\", position = \"stack\") +\n",
    "    labs(y = \"Total number of predictions\", fill = \"Prediction Result\") +\n",
    "    geom_text(aes(label = total_predictions), position = position_stack(vjust = 0.5))\n",
    "                            \n",
    "results_graph    "
   ]
  },
  {
   "cell_type": "markdown",
   "metadata": {},
   "source": [
    "<b> Discussion:"
   ]
  },
  {
   "cell_type": "markdown",
   "metadata": {},
   "source": [
    "We found that the K-nearest neighbours classifier developed in the Methods and Results section had an accuracy of 85.52%. This means that roughly 43/50 classifiers' predictions for the correct knowledge level based on PEG will be correct, or roughly 7/50 predictions will be incorrect. However, just looking at this percentage is not an optimal method to gauge if our classifier is an acceptable one as there are other factors which may influence this value. For example, we need to consider our relatively small sample size, in which each occurrence would have more weight as opposed to a larger sample size that is more capable of drowning out noise. Also, the effectiveness of the classifier is crucially dependent on which context it is applied and what the classifier is classifying must be taken into consideration. For example, a ~86% accuracy in an ad-blocker is efficient; the 14% that do get through may offer slight annoyance, but they are just advertisements and nothing of serious consequence. However, one could imagine the destruction of a sub-100% accuracy classifier for matters of serious consequence, such as for a classifier that recognizes human pedestrians from other objects in a self-driving system. Furthermore, if that system was put into wide use, the 14% would amount to innumerable pedestrians being unrecognized by self-driving cars and ultimately causing catastrophe. "
   ]
  },
  {
   "cell_type": "markdown",
   "metadata": {},
   "source": [
    "From our analysis, we found that there is a high correlation between a student’s exam score and their level of knowledge. The high correlation (0.911) between exam scores and level of knowledge in the dataset reflects the current education system with standardized testing. We found that the most common variables were “Middle” and “High”, suggesting that most users perform relatively well on their exams and are classified as having a middle or high level of knowledge of the material. For future applications, our findings suggest that students can predict or grasp how much they know of the material based on their exam scores, and students and instructors may use our classifier to roughly estimate a student’s level of knowledge in a course. \n",
    "We also saw that there is a weak correlation between the amount of time a student spends studying and their exam score (0.206), and/or their level of knowledge(0.207). In turn, this suggests that there are factors other than a student’s study time that impacts their exam scores. From research, we learned that factors such as overall intelligence, ability to focus, reaction under stress, and personal events can all affect a student’s exam performance (MACHUCHO, 2018). As such, physiological challenges can cause impairments and may influence a student’s lack of success in academic achievements. Furthermore, a student’s level of prerequisite knowledge may also influence the outcome of their cumulative test scores. As students who already have an adept grasp on certain concepts would spend less time preparing, than their other peers who may have never seen the same concepts before. For example, an individual who took Calculus in high school with the BC curriculum versus an individual who took higher-level mathematics with the IB curriculum would have different backgrounds in the same subject, with the latter being much more prepared to face challenging content because they already have experience. Therefore, even if both individuals put in similar amounts of effort, the latter would hypothetically still receive the better result. As an extraneous variable, somehow controlling this variable and others would help to increase the ecological validity of our findings. Relating back to the aforementioned standardized testing, it makes us wonder basing a student’s abilities in a specific area solely on their exam scores is truly the best way to classify a student’s level of knowledge. \n"
   ]
  },
  {
   "cell_type": "markdown",
   "metadata": {},
   "source": [
    "It is important to iterate that correlation does not equal causation. No matter the strength of the relationship between PEG and UNS, high exam scores is definitely not the only variable that contributes to knowledge level. In future applications, we could deduce a student’s knowledge level (UNS) based on their exam scores (PEG) with the assumption that exam scores would classify their knowledge. As such, these data-driven findings serve as a foundation for future studies to deduce the contributing variables to high academic standing. Perhaps we could also study possible relationships between the professor’s education standing and the knowledge level of their students, or possible factors that influence the professor’s knowledge level. These questions both pose relevance because the proficiency of the professors may also influence the student’s knowledge level. However small our findings, we hope they may contribute to the much larger picture of deducing an individual’s knowledge level regarding a certain subject."
   ]
  },
  {
   "cell_type": "markdown",
   "metadata": {},
   "source": [
    "<b> References:"
   ]
  },
  {
   "cell_type": "markdown",
   "metadata": {},
   "source": [
    "Dua, D. and Graff, C. (2019). UCI Machine Learning Repository [http://archive.ics.uci.edu/ml]. Irvine, CA: University of California, School of Information and Computer Science."
   ]
  },
  {
   "cell_type": "markdown",
   "metadata": {},
   "source": [
    "H. T. Kahraman, Sagiroglu, S., Colak, I., Developing intuitive knowledge classifier and modeling of users' domain dependent data in web, Knowledge Based Systems, vol. 37, pp. 283-295, 2013."
   ]
  },
  {
   "cell_type": "markdown",
   "metadata": {},
   "source": [
    "Machucho, M. (2018, May 13). Factors that affect students' test scores. Owlcation. Retrieved December 7, 2021, from https://owlcation.com/academia/Factors-That-Affect-Students-Test-Scores. "
   ]
  }
 ],
 "metadata": {
  "kernelspec": {
   "display_name": "R",
   "language": "R",
   "name": "ir"
  },
  "language_info": {
   "codemirror_mode": "r",
   "file_extension": ".r",
   "mimetype": "text/x-r-source",
   "name": "R",
   "pygments_lexer": "r",
   "version": "4.0.0"
  }
 },
 "nbformat": 4,
 "nbformat_minor": 4
}
